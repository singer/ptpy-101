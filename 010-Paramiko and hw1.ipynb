{
 "cells": [
  {
   "cell_type": "markdown",
   "metadata": {},
   "source": [
    "# 1. Paramiko\n",
    "## 1.1 Установка"
   ]
  },
  {
   "cell_type": "code",
   "execution_count": 1,
   "metadata": {},
   "outputs": [
    {
     "name": "stdout",
     "output_type": "stream",
     "text": [
      "Collecting paramiko\n",
      "\u001b[?25l  Downloading paramiko-2.4.1-py2.py3-none-any.whl (194kB)\n",
      "\u001b[K    100% |████████████████████████████████| 194kB 591kB/s ta 0:00:01\n",
      "\u001b[?25hCollecting cryptography>=1.5 (from paramiko)\n",
      "\u001b[?25l  Downloading cryptography-2.2.2-cp34-abi3-manylinux1_x86_64.whl (2.2MB)\n",
      "\u001b[K    100% |████████████████████████████████| 2.2MB 611kB/s ta 0:00:01\n",
      "\u001b[?25hCollecting bcrypt>=3.1.3 (from paramiko)\n",
      "\u001b[?25l  Downloading bcrypt-3.1.4-cp35-cp35m-manylinux1_x86_64.whl (54kB)\n",
      "\u001b[K    100% |████████████████████████████████| 61kB 1.4MB/s ta 0:00:011\n",
      "\u001b[?25hCollecting pynacl>=1.0.1 (from paramiko)\n",
      "\u001b[?25l  Downloading PyNaCl-1.2.1-cp35-cp35m-manylinux1_x86_64.whl (692kB)\n",
      "\u001b[K    100% |████████████████████████████████| 696kB 722kB/s ta 0:00:01\n",
      "\u001b[?25hCollecting pyasn1>=0.1.7 (from paramiko)\n",
      "\u001b[?25l  Downloading pyasn1-0.4.2-py2.py3-none-any.whl (71kB)\n",
      "\u001b[K    100% |████████████████████████████████| 71kB 1.2MB/s ta 0:00:011\n",
      "\u001b[?25hRequirement already satisfied: six>=1.4.1 in /home/singer/envs/ptpy/lib/python3.5/site-packages (from cryptography>=1.5->paramiko) (1.11.0)\n",
      "Collecting cffi>=1.7; platform_python_implementation != \"PyPy\" (from cryptography>=1.5->paramiko)\n",
      "\u001b[?25l  Downloading cffi-1.11.5-cp35-cp35m-manylinux1_x86_64.whl (420kB)\n",
      "\u001b[K    100% |████████████████████████████████| 430kB 869kB/s ta 0:00:01\n",
      "\u001b[?25hCollecting asn1crypto>=0.21.0 (from cryptography>=1.5->paramiko)\n",
      "\u001b[?25l  Downloading asn1crypto-0.24.0-py2.py3-none-any.whl (101kB)\n",
      "\u001b[K    100% |████████████████████████████████| 102kB 1.0MB/s a 0:00:011\n",
      "\u001b[?25hCollecting idna>=2.1 (from cryptography>=1.5->paramiko)\n",
      "  Using cached idna-2.6-py2.py3-none-any.whl\n",
      "Collecting pycparser (from cffi>=1.7; platform_python_implementation != \"PyPy\"->cryptography>=1.5->paramiko)\n",
      "\u001b[?25l  Downloading pycparser-2.18.tar.gz (245kB)\n",
      "\u001b[K    100% |████████████████████████████████| 256kB 1.0MB/s ta 0:00:01\n",
      "\u001b[?25hBuilding wheels for collected packages: pycparser\n",
      "  Running setup.py bdist_wheel for pycparser ... \u001b[?25ldone\n",
      "\u001b[?25h  Stored in directory: /home/singer/.cache/pip/wheels/95/14/9a/5e7b9024459d2a6600aaa64e0ba485325aff7a9ac7489db1b6\n",
      "Successfully built pycparser\n",
      "Installing collected packages: pycparser, cffi, asn1crypto, idna, cryptography, bcrypt, pynacl, pyasn1, paramiko\n",
      "Successfully installed asn1crypto-0.24.0 bcrypt-3.1.4 cffi-1.11.5 cryptography-2.2.2 idna-2.6 paramiko-2.4.1 pyasn1-0.4.2 pycparser-2.18 pynacl-1.2.1\n"
     ]
    }
   ],
   "source": [
    "!pip install paramiko # conda install paramiko"
   ]
  },
  {
   "cell_type": "markdown",
   "metadata": {},
   "source": [
    "## 1.2 Базовое ssh соединение"
   ]
  },
  {
   "cell_type": "code",
   "execution_count": 33,
   "metadata": {},
   "outputs": [],
   "source": [
    "import paramiko\n",
    "client = paramiko.SSHClient()"
   ]
  },
  {
   "cell_type": "code",
   "execution_count": 43,
   "metadata": {},
   "outputs": [],
   "source": [
    "client.set_missing_host_key_policy(paramiko.AutoAddPolicy())\n",
    "# client.load_host_keys(filename='./konwn_hosts')"
   ]
  },
  {
   "cell_type": "code",
   "execution_count": 44,
   "metadata": {},
   "outputs": [],
   "source": [
    "client.connect(hostname='localhost',username='root',password='pwd',port=22022)"
   ]
  },
  {
   "cell_type": "code",
   "execution_count": 45,
   "metadata": {},
   "outputs": [],
   "source": [
    "stdin, stdout, stderr = client.exec_command('apt list --installed')"
   ]
  },
  {
   "cell_type": "code",
   "execution_count": 46,
   "metadata": {},
   "outputs": [],
   "source": [
    "results = stdout.read()"
   ]
  },
  {
   "cell_type": "code",
   "execution_count": 47,
   "metadata": {},
   "outputs": [
    {
     "data": {
      "text/plain": [
       "b'Listing...\\nadduser/xenial,now 3.113+nmu3ubuntu4 all [installed]\\napt/xenial-updates,now 1.2.26 amd64 '"
      ]
     },
     "execution_count": 47,
     "metadata": {},
     "output_type": "execute_result"
    }
   ],
   "source": [
    "results[:100]"
   ]
  },
  {
   "cell_type": "code",
   "execution_count": 49,
   "metadata": {},
   "outputs": [],
   "source": [
    "client.close()"
   ]
  },
  {
   "cell_type": "markdown",
   "metadata": {},
   "source": [
    "``Первая задача на дом\n",
    "* Реализовать функцию get_transport(transport_name, host, port, login, passowrd) которая возвращаетет instance транспорта\n",
    "Выбрасывает исключение UnknownTransport - в случае если трансопрта не существует.\n",
    "* Реализовать класс тнаспрота SSH\n",
    "Методы:\n",
    "exec(command) выполняет комманду на целвевом хосте\n",
    "get_file(path) возвращает содержимое файла\n",
    "Выбрасывает исключения TransportError в случае остутвия комманды файла, \n",
    "TransportConnetionError - в случае ошибок подключения\n",
    "* Написать тесты. Я бы использовал pytest\n",
    "``"
   ]
  },
  {
   "cell_type": "code",
   "execution_count": null,
   "metadata": {},
   "outputs": [],
   "source": []
  }
 ],
 "metadata": {
  "kernelspec": {
   "display_name": "Python 3",
   "language": "python",
   "name": "python3"
  },
  "language_info": {
   "codemirror_mode": {
    "name": "ipython",
    "version": 3
   },
   "file_extension": ".py",
   "mimetype": "text/x-python",
   "name": "python",
   "nbconvert_exporter": "python",
   "pygments_lexer": "ipython3",
   "version": "3.5.2"
  }
 },
 "nbformat": 4,
 "nbformat_minor": 2
}

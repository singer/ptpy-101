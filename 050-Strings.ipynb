{
 "cells": [
  {
   "cell_type": "code",
   "execution_count": 7,
   "metadata": {},
   "outputs": [],
   "source": [
    "from pprint import pprint"
   ]
  },
  {
   "cell_type": "markdown",
   "metadata": {},
   "source": [
    "# 5. Строки"
   ]
  },
  {
   "cell_type": "markdown",
   "metadata": {},
   "source": [
    "Cтрока в третьем питоне это последовательность символов. Строки можно создавать с помощью одиинарных, двойных или трёх символов ковычек (одинарных или двнойных)."
   ]
  },
  {
   "cell_type": "code",
   "execution_count": 24,
   "metadata": {},
   "outputs": [],
   "source": [
    "s = 'my shinny string'"
   ]
  },
  {
   "cell_type": "code",
   "execution_count": 25,
   "metadata": {},
   "outputs": [],
   "source": [
    "s1 = 'my shinny string'"
   ]
  },
  {
   "cell_type": "code",
   "execution_count": 26,
   "metadata": {},
   "outputs": [
    {
     "data": {
      "text/plain": [
       "False"
      ]
     },
     "execution_count": 26,
     "metadata": {},
     "output_type": "execute_result"
    }
   ],
   "source": [
    "s is s1"
   ]
  },
  {
   "cell_type": "code",
   "execution_count": 27,
   "metadata": {},
   "outputs": [
    {
     "name": "stdout",
     "output_type": "stream",
     "text": [
      "['__add__', '__class__', '__contains__', '__delattr__', '__dir__', '__doc__', '__eq__', '__format__', '__ge__', '__getattribute__', '__getitem__', '__getnewargs__', '__gt__', '__hash__', '__init__', '__iter__', '__le__', '__len__', '__lt__', '__mod__', '__mul__', '__ne__', '__new__', '__reduce__', '__reduce_ex__', '__repr__', '__rmod__', '__rmul__', '__setattr__', '__sizeof__', '__str__', '__subclasshook__', 'capitalize', 'casefold', 'center', 'count', 'encode', 'endswith', 'expandtabs', 'find', 'format', 'format_map', 'index', 'isalnum', 'isalpha', 'isdecimal', 'isdigit', 'isidentifier', 'islower', 'isnumeric', 'isprintable', 'isspace', 'istitle', 'isupper', 'join', 'ljust', 'lower', 'lstrip', 'maketrans', 'partition', 'replace', 'rfind', 'rindex', 'rjust', 'rpartition', 'rsplit', 'rstrip', 'split', 'splitlines', 'startswith', 'strip', 'swapcase', 'title', 'translate', 'upper', 'zfill']\n"
     ]
    }
   ],
   "source": [
    "print(dir(s))"
   ]
  },
  {
   "cell_type": "code",
   "execution_count": 28,
   "metadata": {},
   "outputs": [],
   "source": [
    "s2 = \"my shinny string\""
   ]
  },
  {
   "cell_type": "code",
   "execution_count": 29,
   "metadata": {},
   "outputs": [],
   "source": [
    "s3 = '''my shinny string'''"
   ]
  },
  {
   "cell_type": "code",
   "execution_count": 30,
   "metadata": {},
   "outputs": [],
   "source": [
    "s4 = 'my ' + \"shinny \" \"\"\"string\"\"\""
   ]
  },
  {
   "cell_type": "code",
   "execution_count": 31,
   "metadata": {},
   "outputs": [
    {
     "data": {
      "text/plain": [
       "True"
      ]
     },
     "execution_count": 31,
     "metadata": {},
     "output_type": "execute_result"
    }
   ],
   "source": [
    "s1 == s2 == s3 == s4"
   ]
  },
  {
   "cell_type": "code",
   "execution_count": 34,
   "metadata": {},
   "outputs": [],
   "source": [
    "s = 'fwefe'\\\n",
    "'fwefw'"
   ]
  },
  {
   "cell_type": "code",
   "execution_count": 35,
   "metadata": {},
   "outputs": [
    {
     "data": {
      "text/plain": [
       "'fwefefwefw'"
      ]
     },
     "execution_count": 35,
     "metadata": {},
     "output_type": "execute_result"
    }
   ],
   "source": [
    "s"
   ]
  },
  {
   "cell_type": "markdown",
   "metadata": {},
   "source": [
    "## 5.1 Форматирование"
   ]
  },
  {
   "cell_type": "markdown",
   "metadata": {},
   "source": [
    "### 5.1.1 Базовое форматирование через %"
   ]
  },
  {
   "cell_type": "code",
   "execution_count": 60,
   "metadata": {},
   "outputs": [
    {
     "data": {
      "text/plain": [
       "'my string'"
      ]
     },
     "execution_count": 60,
     "metadata": {},
     "output_type": "execute_result"
    }
   ],
   "source": [
    "'%s string' % 'my'"
   ]
  },
  {
   "cell_type": "code",
   "execution_count": 61,
   "metadata": {},
   "outputs": [],
   "source": [
    "a = [1,2]\n",
    "b = 1"
   ]
  },
  {
   "cell_type": "code",
   "execution_count": 62,
   "metadata": {},
   "outputs": [
    {
     "data": {
      "text/plain": [
       "'[1, 2]'"
      ]
     },
     "execution_count": 62,
     "metadata": {},
     "output_type": "execute_result"
    }
   ],
   "source": [
    "'%s' % a"
   ]
  },
  {
   "cell_type": "code",
   "execution_count": 63,
   "metadata": {},
   "outputs": [
    {
     "data": {
      "text/plain": [
       "'[1, 2] 1'"
      ]
     },
     "execution_count": 63,
     "metadata": {},
     "output_type": "execute_result"
    }
   ],
   "source": [
    "'%s %s' % (a, b,)"
   ]
  },
  {
   "cell_type": "markdown",
   "metadata": {},
   "source": [
    "### 5.1.2 Продвинутое форматирование через .format()"
   ]
  },
  {
   "cell_type": "markdown",
   "metadata": {},
   "source": [
    "https://pyformat.info/"
   ]
  },
  {
   "cell_type": "markdown",
   "metadata": {},
   "source": [
    "## 5.2 Что есть символ?"
   ]
  },
  {
   "cell_type": "code",
   "execution_count": 43,
   "metadata": {},
   "outputs": [
    {
     "data": {
      "text/plain": [
       "str"
      ]
     },
     "execution_count": 43,
     "metadata": {},
     "output_type": "execute_result"
    }
   ],
   "source": [
    "s = 'Строка это неизменяемая последовательность юникод символов'\n",
    "type(s)"
   ]
  },
  {
   "cell_type": "code",
   "execution_count": 44,
   "metadata": {},
   "outputs": [
    {
     "data": {
      "text/plain": [
       "'С'"
      ]
     },
     "execution_count": 44,
     "metadata": {},
     "output_type": "execute_result"
    }
   ],
   "source": [
    "s[0]"
   ]
  },
  {
   "cell_type": "code",
   "execution_count": 45,
   "metadata": {},
   "outputs": [
    {
     "data": {
      "text/plain": [
       "str"
      ]
     },
     "execution_count": 45,
     "metadata": {},
     "output_type": "execute_result"
    }
   ],
   "source": [
    "type(s[0])"
   ]
  },
  {
   "cell_type": "code",
   "execution_count": 46,
   "metadata": {},
   "outputs": [
    {
     "data": {
      "text/plain": [
       "True"
      ]
     },
     "execution_count": 46,
     "metadata": {},
     "output_type": "execute_result"
    }
   ],
   "source": [
    "'\\u042b' is 'Ы'"
   ]
  },
  {
   "cell_type": "markdown",
   "metadata": {},
   "source": [
    "\\u042b это идентификатор символа UNICODE"
   ]
  },
  {
   "cell_type": "markdown",
   "metadata": {},
   "source": [
    "### 5.2.1 Чтение и запись файлов "
   ]
  },
  {
   "cell_type": "markdown",
   "metadata": {},
   "source": [
    "Файл на жекском диске это просто нолики и единички. "
   ]
  },
  {
   "cell_type": "code",
   "execution_count": 47,
   "metadata": {},
   "outputs": [],
   "source": [
    "s = 'Запишем это в файл'\n",
    "\n",
    "with open('5_1_5_file.txt', 'w') as f:\n",
    "    f.write(s)"
   ]
  },
  {
   "cell_type": "code",
   "execution_count": 48,
   "metadata": {},
   "outputs": [
    {
     "name": "stdout",
     "output_type": "stream",
     "text": [
      "Запишем это в файл"
     ]
    }
   ],
   "source": [
    "!cat 'myfile.txt'"
   ]
  },
  {
   "cell_type": "markdown",
   "metadata": {},
   "source": [
    "Что-то непохоже на нолики и единички"
   ]
  },
  {
   "cell_type": "code",
   "execution_count": 49,
   "metadata": {},
   "outputs": [
    {
     "name": "stdout",
     "output_type": "stream",
     "text": [
      "00000000: 11010000 10010111 11010000 10110000 11010000 10111111  ......\r\n",
      "00000006: 11010000 10111000 11010001 10001000 11010000 10110101  ......\r\n",
      "0000000c: 11010000 10111100 00100000 11010001 10001101 11010001  .. ...\r\n",
      "00000012: 10000010 11010000 10111110 00100000 11010000 10110010  ... ..\r\n",
      "00000018: 00100000 11010001 10000100 11010000 10110000 11010000   .....\r\n",
      "0000001e: 10111001 11010000 10111011                             ...\r\n"
     ]
    }
   ],
   "source": [
    "!xxd -b '5_1_5_file.txt'"
   ]
  },
  {
   "cell_type": "markdown",
   "metadata": {},
   "source": [
    "То какой именно последовательностью ноликов и единичек кодируется кодируются символы Юникод называется кодировкой. "
   ]
  },
  {
   "cell_type": "code",
   "execution_count": 50,
   "metadata": {},
   "outputs": [
    {
     "name": "stdout",
     "output_type": "stream",
     "text": [
      "00000000: d097 d0b0 d0bf d0b8 d188 d0b5 d0bc 20d1  .............. .\r\n",
      "00000010: 8dd1 82d0 be20 d0b2 20d1 84d0 b0d0 b9d0  ..... .. .......\r\n",
      "00000020: bb                                       .\r\n"
     ]
    }
   ],
   "source": [
    "!xxd '5_1_5_file.txt'"
   ]
  },
  {
   "cell_type": "markdown",
   "metadata": {},
   "source": [
    "Что на самом деле произшло"
   ]
  },
  {
   "cell_type": "code",
   "execution_count": 51,
   "metadata": {},
   "outputs": [
    {
     "data": {
      "text/plain": [
       "'UTF-8'"
      ]
     },
     "execution_count": 51,
     "metadata": {},
     "output_type": "execute_result"
    }
   ],
   "source": [
    "# Python получил кодировку по умолчанию\n",
    "import locale\n",
    "default_encoding = locale.getpreferredencoding()\n",
    "default_encoding"
   ]
  },
  {
   "cell_type": "code",
   "execution_count": 52,
   "metadata": {},
   "outputs": [
    {
     "data": {
      "text/plain": [
       "b'\\xd0\\x97\\xd0\\xb0\\xd0\\xbf\\xd0\\xb8\\xd1\\x88\\xd0\\xb5\\xd0\\xbc \\xd1\\x8d\\xd1\\x82\\xd0\\xbe \\xd0\\xb2 \\xd1\\x84\\xd0\\xb0\\xd0\\xb9\\xd0\\xbb'"
      ]
     },
     "execution_count": 52,
     "metadata": {},
     "output_type": "execute_result"
    }
   ],
   "source": [
    "# Python закодировал нашу строку используя кодировку по умолчанию\n",
    "bs = s.encode(default_encoding)\n",
    "bs"
   ]
  },
  {
   "cell_type": "code",
   "execution_count": 53,
   "metadata": {},
   "outputs": [],
   "source": [
    "# Непослредственно запись в файл\n",
    "with open('5_1_5_2_file.txt', 'bw') as f:\n",
    "    f.write(bs)"
   ]
  },
  {
   "cell_type": "code",
   "execution_count": 54,
   "metadata": {},
   "outputs": [
    {
     "name": "stdout",
     "output_type": "stream",
     "text": [
      "Запишем это в файл"
     ]
    }
   ],
   "source": [
    "# Утилитак cat почитала байты и так совпало что они оказались в той кодировке которую наша среда знает как отобразить\n",
    "!cat '5_1_5_2_file.txt'"
   ]
  },
  {
   "cell_type": "markdown",
   "metadata": {},
   "source": [
    "### 5.2.2 Строки и последовательности байтов"
   ]
  },
  {
   "cell_type": "markdown",
   "metadata": {},
   "source": [
    "Преобразование строк в байты называется кодированием, преобразование байтов в строки - декодированием.\n",
    "Поскольку здесь часто возникает много путаницы можно запмонить так. Юникод строки - это человекочитаемый текст, последовательность байт - дамп памяти. "
   ]
  },
  {
   "cell_type": "markdown",
   "metadata": {},
   "source": [
    "Последовательность байт можно получить из строки с помощью конструктора `bytes` передав ему кодировку или через метод `encode()` строки"
   ]
  },
  {
   "cell_type": "code",
   "execution_count": 55,
   "metadata": {},
   "outputs": [
    {
     "data": {
      "text/plain": [
       "b'\\xd1\\x81\\xd1\\x82\\xd1\\x80\\xd0\\xbe\\xd0\\xba\\xd0\\xb0'"
      ]
     },
     "execution_count": 55,
     "metadata": {},
     "output_type": "execute_result"
    }
   ],
   "source": [
    "s = 'строка'\n",
    "b = bytes(s, encoding='utf8')\n",
    "b"
   ]
  },
  {
   "cell_type": "code",
   "execution_count": 56,
   "metadata": {},
   "outputs": [
    {
     "data": {
      "text/plain": [
       "b'\\xd1\\x81\\xd1\\x82\\xd1\\x80\\xd0\\xbe\\xd0\\xba\\xd0\\xb0'"
      ]
     },
     "execution_count": 56,
     "metadata": {},
     "output_type": "execute_result"
    }
   ],
   "source": [
    "s.encode('utf8')"
   ]
  },
  {
   "cell_type": "markdown",
   "metadata": {},
   "source": [
    "Каждое элементы последовательнсоти байт ито целое в диапазоне от 0 до 255"
   ]
  },
  {
   "cell_type": "code",
   "execution_count": 57,
   "metadata": {},
   "outputs": [
    {
     "data": {
      "text/plain": [
       "209"
      ]
     },
     "execution_count": 57,
     "metadata": {},
     "output_type": "execute_result"
    }
   ],
   "source": [
    "b[0]"
   ]
  },
  {
   "cell_type": "code",
   "execution_count": 58,
   "metadata": {},
   "outputs": [
    {
     "data": {
      "text/plain": [
       "int"
      ]
     },
     "execution_count": 58,
     "metadata": {},
     "output_type": "execute_result"
    }
   ],
   "source": [
    "type(b[0])"
   ]
  },
  {
   "cell_type": "markdown",
   "metadata": {},
   "source": [
    "Срезы же это тип bytes"
   ]
  },
  {
   "cell_type": "code",
   "execution_count": 59,
   "metadata": {},
   "outputs": [
    {
     "data": {
      "text/plain": [
       "b'\\xb0'"
      ]
     },
     "execution_count": 59,
     "metadata": {},
     "output_type": "execute_result"
    }
   ],
   "source": [
    "b[-1:]"
   ]
  },
  {
   "cell_type": "code",
   "execution_count": 60,
   "metadata": {},
   "outputs": [
    {
     "data": {
      "text/plain": [
       "bytes"
      ]
     },
     "execution_count": 60,
     "metadata": {},
     "output_type": "execute_result"
    }
   ],
   "source": [
    "type(b[-1:])"
   ]
  },
  {
   "cell_type": "markdown",
   "metadata": {},
   "source": [
    "Как python выводит байт строки\n",
    "* Для байтов которые находятся в димпазоне ASCII выводится ASCII символ\n",
    "* Для некторых управляющий последовательностей напрмер новая строка выводтся их текстовое пресдтавление (`\\n`)\n",
    "* Для всего остального выводстя шеснадцатирчное пресдтавление в формате `\\x00`"
   ]
  },
  {
   "cell_type": "code",
   "execution_count": 61,
   "metadata": {},
   "outputs": [
    {
     "data": {
      "text/plain": [
       "b'the\\t\\xf1\\xf2\\xf0\\xee\\xea\\xe0\\n'"
      ]
     },
     "execution_count": 61,
     "metadata": {},
     "output_type": "execute_result"
    }
   ],
   "source": [
    "'the\\tстрока\\n'.encode('cp1251')"
   ]
  },
  {
   "cell_type": "markdown",
   "metadata": {},
   "source": [
    "### 5.3 Декодирование\n",
    "![](_static/the_sandwich.png)"
   ]
  },
  {
   "cell_type": "markdown",
   "metadata": {},
   "source": [
    "Поблемы декодирования\n",
    "* Не каждая последовательность байт может быть декордированна в строку. Иногда байты это просто байты.\n",
    "* Чтобы декодировать последовательность байт, нужно знать (или выяснить) кодировку.\n",
    "В стандартной библиотеке есть модуль codecs для работы с кодировками. \n",
    "Стандартный набор кодировок разница от версии к версии и его можно посмотреть в [документации](https://docs.python.org/3.6/library/codecs.html#standard-encodings) "
   ]
  },
  {
   "cell_type": "code",
   "execution_count": 262,
   "metadata": {},
   "outputs": [],
   "source": [
    "codings = ['ascii', 'big5', 'big5hkscs', 'cp037', 'cp273', 'cp424', 'cp437', 'cp500', 'cp720', 'cp737', 'cp775', 'cp850', 'cp852', 'cp855', 'cp856', 'cp857', 'cp858', 'cp860', 'cp861', 'cp862', 'cp863', 'cp864', 'cp865', 'cp866', 'cp869', 'cp874', 'cp875', 'cp932', 'cp949', 'cp950', 'cp1006', 'cp1026', 'cp1125', 'cp1140', 'cp1250', 'cp1251', 'cp1252', 'cp1253', 'cp1254', 'cp1255', 'cp1256', 'cp1257', 'cp1258', 'cp65001', 'euc_jp', 'euc_jis_2004', 'euc_jisx0213', 'euc_kr', 'gb2312', 'gbk', 'gb18030', 'hz', 'iso2022_jp', 'iso2022_jp_1', 'iso2022_jp_2', 'iso2022_jp_2004', 'iso2022_jp_3', 'iso2022_jp_ext', 'iso2022_kr', 'latin_1', 'iso8859_2', 'iso8859_3', 'iso8859_4', 'iso8859_5', 'iso8859_6', 'iso8859_7', 'iso8859_8', 'iso8859_9', 'iso8859_10', 'iso8859_11', 'iso8859_13', 'iso8859_14', 'iso8859_15', 'iso8859_16', 'johab', 'koi8_r', 'koi8_t', 'koi8_u', 'kz1048', 'mac_cyrillic', 'mac_greek', 'mac_iceland', 'mac_latin2', 'mac_roman', 'mac_turkish', 'ptcp154', 'shift_jis', 'shift_jis_2004', 'shift_jisx0213', 'utf_32', 'utf_32_be', 'utf_32_le', 'utf_16', 'utf_16_be', 'utf_16_le', 'utf_7', 'utf_8', 'utf_8_sig']"
   ]
  },
  {
   "cell_type": "code",
   "execution_count": 263,
   "metadata": {},
   "outputs": [
    {
     "data": {
      "text/plain": [
       "'Øèôðîâêà'"
      ]
     },
     "execution_count": 263,
     "metadata": {},
     "output_type": "execute_result"
    }
   ],
   "source": [
    "b'\\xd8\\xe8\\xf4\\xf0\\xee\\xe2\\xea\\xe0'.decode('cp1252') # cp1251 encoded"
   ]
  },
  {
   "cell_type": "code",
   "execution_count": 264,
   "metadata": {},
   "outputs": [
    {
     "data": {
      "text/plain": [
       "'РЁРёС„СЂРѕРІРєР°'"
      ]
     },
     "execution_count": 264,
     "metadata": {},
     "output_type": "execute_result"
    }
   ],
   "source": [
    "b'\\xd0\\xa8\\xd0\\xb8\\xd1\\x84\\xd1\\x80\\xd0\\xbe\\xd0\\xb2\\xd0\\xba\\xd0\\xb0'.decode('cp1251') # utf8 encoded"
   ]
  },
  {
   "cell_type": "code",
   "execution_count": 265,
   "metadata": {},
   "outputs": [
    {
     "data": {
      "text/plain": [
       "'ыЙЖТПЧЛБ'"
      ]
     },
     "execution_count": 265,
     "metadata": {},
     "output_type": "execute_result"
    }
   ],
   "source": [
    "b'\\xfb\\xc9\\xc6\\xd2\\xcf\\xd7\\xcb\\xc1'.decode('cp1251') # koi8-r encoded"
   ]
  },
  {
   "cell_type": "code",
   "execution_count": 266,
   "metadata": {},
   "outputs": [
    {
     "data": {
      "text/plain": [
       "'п╗п╦я└я─п╬п╡п╨п╟'"
      ]
     },
     "execution_count": 266,
     "metadata": {},
     "output_type": "execute_result"
    }
   ],
   "source": [
    "b'\\xd0\\xa8\\xd0\\xb8\\xd1\\x84\\xd1\\x80\\xd0\\xbe\\xd0\\xb2\\xd0\\xba\\xd0\\xb0'.decode('koi8-r') # utf-8 encoded"
   ]
  },
  {
   "cell_type": "code",
   "execution_count": 267,
   "metadata": {},
   "outputs": [
    {
     "data": {
      "text/plain": [
       "'Ð¨Ð¸Ñ\\x84Ñ\\x80Ð¾Ð²ÐºÐ°'"
      ]
     },
     "execution_count": 267,
     "metadata": {},
     "output_type": "execute_result"
    }
   ],
   "source": [
    "b'\\xd0\\xa8\\xd0\\xb8\\xd1\\x84\\xd1\\x80\\xd0\\xbe\\xd0\\xb2\\xd0\\xba\\xd0\\xb0'.decode('latin1') # utf-8 encoded"
   ]
  },
  {
   "cell_type": "markdown",
   "metadata": {},
   "source": [
    "В большинтсве случаев сегодня будет так"
   ]
  },
  {
   "cell_type": "code",
   "execution_count": 268,
   "metadata": {},
   "outputs": [
    {
     "ename": "UnicodeDecodeError",
     "evalue": "'utf-8' codec can't decode byte 0xfb in position 0: invalid start byte",
     "output_type": "error",
     "traceback": [
      "\u001b[0;31m---------------------------------------------------------------------------\u001b[0m",
      "\u001b[0;31mUnicodeDecodeError\u001b[0m                        Traceback (most recent call last)",
      "\u001b[0;32m<ipython-input-268-09709fecd778>\u001b[0m in \u001b[0;36m<module>\u001b[0;34m()\u001b[0m\n\u001b[0;32m----> 1\u001b[0;31m \u001b[0;34mb'\\xfb\\xc9\\xc6\\xd2\\xcf\\xd7\\xcb\\xc1'\u001b[0m\u001b[0;34m.\u001b[0m\u001b[0mdecode\u001b[0m\u001b[0;34m(\u001b[0m\u001b[0;34m'utf8'\u001b[0m\u001b[0;34m)\u001b[0m\u001b[0;34m\u001b[0m\u001b[0m\n\u001b[0m",
      "\u001b[0;31mUnicodeDecodeError\u001b[0m: 'utf-8' codec can't decode byte 0xfb in position 0: invalid start byte"
     ]
    }
   ],
   "source": [
    "b'\\xfb\\xc9\\xc6\\xd2\\xcf\\xd7\\xcb\\xc1'.decode('utf8')"
   ]
  },
  {
   "cell_type": "markdown",
   "metadata": {},
   "source": [
    "#### 5.3.1.1 Как распознать кодировку?"
   ]
  },
  {
   "cell_type": "markdown",
   "metadata": {},
   "source": [
    "![](_static/decodings.jpg)"
   ]
  },
  {
   "cell_type": "markdown",
   "metadata": {},
   "source": [
    "Воспользоваться библиотекой chardet"
   ]
  },
  {
   "cell_type": "code",
   "execution_count": 269,
   "metadata": {},
   "outputs": [
    {
     "data": {
      "text/plain": [
       "{'encoding': 'KOI8-R', 'language': 'Russian', 'confidence': 0.5851197893802805}"
      ]
     },
     "execution_count": 269,
     "metadata": {},
     "output_type": "execute_result"
    }
   ],
   "source": [
    "import chardet\n",
    "chardet.detect(b'\\xfb\\xc9\\xc6\\xd2\\xcf\\xd7\\xcb\\xc1')"
   ]
  },
  {
   "cell_type": "markdown",
   "metadata": {},
   "source": [
    "Допутсим друг прислал нам вот такое"
   ]
  },
  {
   "cell_type": "code",
   "execution_count": 270,
   "metadata": {},
   "outputs": [],
   "source": [
    "s = 'Ð¨Ð¸Ñ\\x84Ñ\\x80Ð¾Ð²ÐºÐ°'"
   ]
  },
  {
   "cell_type": "markdown",
   "metadata": {},
   "source": [
    "Здесь, оригинальная строка была закодированна в кодировку А и получены байты, потом декодированна с помощью кодировки Б, в результате чего получилась следующая последовательность.\n",
    "Надо получить байты в кодировке А. "
   ]
  },
  {
   "cell_type": "code",
   "execution_count": 271,
   "metadata": {},
   "outputs": [
    {
     "data": {
      "text/plain": [
       "b'\\xd0\\xa8\\xd0\\xb8\\xd1\\x84\\xd1\\x80\\xd0\\xbe\\xd0\\xb2\\xd0\\xba\\xd0\\xb0'"
      ]
     },
     "execution_count": 271,
     "metadata": {},
     "output_type": "execute_result"
    }
   ],
   "source": [
    "s.encode('latin1')"
   ]
  },
  {
   "cell_type": "markdown",
   "metadata": {},
   "source": [
    "Достаточно просто, если мы знаем какой кодировкой данные были декодированы. А если мы этого не знаем, то оригинальная закодированная строка в кодировке А могла выглдяить как угодно."
   ]
  },
  {
   "cell_type": "code",
   "execution_count": 272,
   "metadata": {},
   "outputs": [
    {
     "data": {
      "text/plain": [
       "b'+ANAAqADQALgA0QCEANEAgADQAL4A0ACyANAAugDQALA-'"
      ]
     },
     "execution_count": 272,
     "metadata": {},
     "output_type": "execute_result"
    }
   ],
   "source": [
    "s.encode('utf-7')"
   ]
  },
  {
   "cell_type": "code",
   "execution_count": 273,
   "metadata": {},
   "outputs": [
    {
     "data": {
      "text/plain": [
       "b'\\xc3\\x90\\xc2\\xa8\\xc3\\x90\\xc2\\xb8\\xc3\\x91\\xc2\\x84\\xc3\\x91\\xc2\\x80\\xc3\\x90\\xc2\\xbe\\xc3\\x90\\xc2\\xb2\\xc3\\x90\\xc2\\xba\\xc3\\x90\\xc2\\xb0'"
      ]
     },
     "execution_count": 273,
     "metadata": {},
     "output_type": "execute_result"
    }
   ],
   "source": [
    "s.encode('utf8') "
   ]
  },
  {
   "cell_type": "code",
   "execution_count": 274,
   "metadata": {},
   "outputs": [
    {
     "data": {
      "text/plain": [
       "b'\\xff\\xfe\\xd0\\x00\\xa8\\x00\\xd0\\x00\\xb8\\x00\\xd1\\x00\\x84\\x00\\xd1\\x00\\x80\\x00\\xd0\\x00\\xbe\\x00\\xd0\\x00\\xb2\\x00\\xd0\\x00\\xba\\x00\\xd0\\x00\\xb0\\x00'"
      ]
     },
     "execution_count": 274,
     "metadata": {},
     "output_type": "execute_result"
    }
   ],
   "source": [
    "s.encode('utf16') "
   ]
  },
  {
   "cell_type": "code",
   "execution_count": 275,
   "metadata": {},
   "outputs": [
    {
     "data": {
      "text/plain": [
       "b'\\x00\\x00\\x00\\xd0\\x00\\x00\\x00\\xa8\\x00\\x00\\x00\\xd0\\x00\\x00\\x00\\xb8\\x00\\x00\\x00\\xd1\\x00\\x00\\x00\\x84\\x00\\x00\\x00\\xd1\\x00\\x00\\x00\\x80\\x00\\x00\\x00\\xd0\\x00\\x00\\x00\\xbe\\x00\\x00\\x00\\xd0\\x00\\x00\\x00\\xb2\\x00\\x00\\x00\\xd0\\x00\\x00\\x00\\xba\\x00\\x00\\x00\\xd0\\x00\\x00\\x00\\xb0'"
      ]
     },
     "execution_count": 275,
     "metadata": {},
     "output_type": "execute_result"
    }
   ],
   "source": [
    "s.encode('utf_32_be')"
   ]
  },
  {
   "cell_type": "markdown",
   "metadata": {},
   "source": [
    "Тут ничего особо не поделашь надо действовать перебором."
   ]
  },
  {
   "cell_type": "code",
   "execution_count": 276,
   "metadata": {},
   "outputs": [
    {
     "name": "stdout",
     "output_type": "stream",
     "text": [
      "Skipping encoding ascii; Skipping encoding big5; Skipping encoding big5hkscs; Skipping encoding cp424; Skipping encoding cp437; Skipping encoding cp720; Skipping encoding cp737; Skipping encoding cp775; Skipping encoding cp850; Skipping encoding cp852; Skipping encoding cp855; Skipping encoding cp856; Skipping encoding cp857; Skipping encoding cp858; Skipping encoding cp860; Skipping encoding cp861; Skipping encoding cp862; Skipping encoding cp863; Skipping encoding cp864; Skipping encoding cp865; Skipping encoding cp866; Skipping encoding cp869; Skipping encoding cp874; Skipping encoding cp875; Skipping encoding cp932; Skipping encoding cp949; Skipping encoding cp950; Skipping encoding cp1006; Skipping encoding cp1026; Skipping encoding cp1125; Skipping encoding cp1250; Skipping encoding cp1251; Skipping encoding cp1252; Skipping encoding cp1253; Skipping encoding cp1254; Skipping encoding cp1255; Skipping encoding cp1256; Skipping encoding cp1257; Skipping encoding cp1258; Skipping encoding cp65001; Skipping encoding euc_jp; Skipping encoding euc_jis_2004; Skipping encoding euc_jisx0213; Skipping encoding euc_kr; Skipping encoding gb2312; Skipping encoding gbk; Skipping encoding hz; Skipping encoding iso2022_jp; Skipping encoding iso2022_jp_1; Skipping encoding iso2022_jp_2; Skipping encoding iso2022_jp_2004; Skipping encoding iso2022_jp_3; Skipping encoding iso2022_jp_ext; Skipping encoding iso2022_kr; Skipping encoding iso8859_2; Skipping encoding iso8859_3; Skipping encoding iso8859_4; Skipping encoding iso8859_5; Skipping encoding iso8859_6; Skipping encoding iso8859_7; Skipping encoding iso8859_8; Skipping encoding iso8859_9; Skipping encoding iso8859_10; Skipping encoding iso8859_11; Skipping encoding iso8859_13; Skipping encoding iso8859_14; Skipping encoding iso8859_15; Skipping encoding iso8859_16; Skipping encoding johab; Skipping encoding koi8_r; Skipping encoding koi8_t; Skipping encoding koi8_u; Skipping encoding kz1048; Skipping encoding mac_cyrillic; Skipping encoding mac_greek; Skipping encoding mac_iceland; Skipping encoding mac_latin2; Skipping encoding mac_roman; Skipping encoding mac_turkish; Skipping encoding ptcp154; Skipping encoding shift_jis; Skipping encoding shift_jis_2004; Skipping encoding shift_jisx0213; "
     ]
    }
   ],
   "source": [
    "bytes_orig = dict()\n",
    "for encoding in codings:\n",
    "    try:\n",
    "        bytes_orig[encoding] = s.encode(encoding)\n",
    "    except (UnicodeEncodeError,LookupError):\n",
    "        print('Skipping encoding {}'.format(encoding), end='; ')"
   ]
  },
  {
   "cell_type": "code",
   "execution_count": 281,
   "metadata": {},
   "outputs": [
    {
     "name": "stdout",
     "output_type": "stream",
     "text": [
      "utf_32_be        -> Windows-1252    : \u0000\u0000\u0000Ð\u0000\u0000\u0000¨\u0000\u0000\u0000Ð\u0000\u0000\u0000¸\u0000\u0000\u0000Ñ\u0000\u0000\u0000„\u0000\u0000\u0000Ñ\u0000\u0000\u0000€\u0000\u0000\u0000Ð\u0000\u0000\u0000¾\u0000\u0000\u0000Ð\u0000\u0000\u0000²\u0000\u0000\u0000Ð\u0000\u0000\u0000º\u0000\u0000\u0000Ð\u0000\u0000\u0000°\n",
      "utf_32           -> UTF-32          : Ð¨Ð¸ÑÑÐ¾Ð²ÐºÐ°\n",
      "utf_16_le        -> Windows-1252    : Ð\u0000¨\u0000Ð\u0000¸\u0000Ñ\u0000„\u0000Ñ\u0000€\u0000Ð\u0000¾\u0000Ð\u0000²\u0000Ð\u0000º\u0000Ð\u0000°\u0000\n",
      "utf_8_sig        -> UTF-8-SIG       : Ð¨Ð¸ÑÑÐ¾Ð²ÐºÐ°\n",
      "gb18030          -> IBM866          : Б0И4бзБ0И4Б0Ж0Б0И5Б0Б4Б0И5Б0Б0Б0И4Б0Ж6Б0И4Б0Е5Б0И4Б0Ж2Б0И4бу\n",
      "latin_1          -> utf-8           : Шифровка\n",
      "utf_8            -> utf-8           : Ð¨Ð¸ÑÑÐ¾Ð²ÐºÐ°\n",
      "utf_7            -> ascii           : +ANAAqADQALgA0QCEANEAgADQAL4A0ACyANAAugDQALA-\n",
      "utf_32_le        -> Windows-1252    : Ð\u0000\u0000\u0000¨\u0000\u0000\u0000Ð\u0000\u0000\u0000¸\u0000\u0000\u0000Ñ\u0000\u0000\u0000„\u0000\u0000\u0000Ñ\u0000\u0000\u0000€\u0000\u0000\u0000Ð\u0000\u0000\u0000¾\u0000\u0000\u0000Ð\u0000\u0000\u0000²\u0000\u0000\u0000Ð\u0000\u0000\u0000º\u0000\u0000\u0000Ð\u0000\u0000\u0000°\u0000\u0000\u0000\n",
      "utf_16           -> UTF-16          : Ð¨Ð¸ÑÑÐ¾Ð²ÐºÐ°\n",
      "utf_16_be        -> Windows-1252    : \u0000Ð\u0000¨\u0000Ð\u0000¸\u0000Ñ\u0000„\u0000Ñ\u0000€\u0000Ð\u0000¾\u0000Ð\u0000²\u0000Ð\u0000º\u0000Ð\u0000°\n"
     ]
    }
   ],
   "source": [
    "for decoded_by, byte_string in bytes_orig.items():\n",
    "    orig_encoding = chardet.detect(byte_string)['encoding']\n",
    "    if not orig_encoding:\n",
    "        continue\n",
    "    try:\n",
    "        decoded = byte_string.decode(orig_encoding)\n",
    "        print('{:16} -> {:16}: {}'.format(decoded_by, orig_encoding, decoded))\n",
    "    except UnicodeDecodeError:\n",
    "        print('Skipping', orig_encoding)"
   ]
  },
  {
   "cell_type": "code",
   "execution_count": 278,
   "metadata": {},
   "outputs": [
    {
     "data": {
      "text/plain": [
       "'ЪЧ+\\x00A\\x00N\\x00A\\x00A\\x00s\\x00Q\\x00D\\x00R\\x00A\\x00I\\x00M\\x00A\\x000\\x00A\\x00C\\x000\\x00A\\x00N\\x00A\\x00A\\x00t\\x00Q\\x00D\\x00R\\x00A\\x00I\\x00I\\x00 \\x00+\\x00A\\x00N\\x00A\\x00A\\x00v\\x00g\\x00D\\x00R\\x00A\\x00I\\x00c\\x00A\\x000\\x00A\\x00C\\x001\\x00A\\x00N\\x00A\\x00A\\x00v\\x00Q\\x00D\\x00R\\x00A\\x00I\\x00w\\x00 \\x00+\\x00A\\x00N\\x00A\\x00A\\x00s\\x00g\\x00D\\x00Q\\x00A\\x00L\\x00U\\x00A\\x000\\x00Q\\x00C\\x00B\\x00A\\x00N\\x00A\\x00A\\x00t\\x00Q\\x00D\\x00Q\\x00A\\x00L\\x00s\\x00A\\x000\\x00A\\x00C\\x00+\\x00-\\x00'"
      ]
     },
     "execution_count": 278,
     "metadata": {},
     "output_type": "execute_result"
    }
   ],
   "source": [
    "u'будет очень весело'.encode('utf8').decode('latin1').encode('utf_7').decode('cp1251').encode('utf-16').decode('koi8-r')"
   ]
  },
  {
   "cell_type": "markdown",
   "metadata": {},
   "source": [
    "## 5.4 Обработка строк\n",
    "Строка это iterable так что все стандартыне операции возможны"
   ]
  },
  {
   "cell_type": "markdown",
   "metadata": {},
   "source": [
    "### 5.4.1 Модуль string"
   ]
  },
  {
   "cell_type": "markdown",
   "metadata": {},
   "source": [
    "### 5.4.2 Модуль re"
   ]
  },
  {
   "cell_type": "markdown",
   "metadata": {},
   "source": [
    "### 5.4.3 Case foding и нормализация"
   ]
  },
  {
   "cell_type": "markdown",
   "metadata": {},
   "source": [
    "### 5 Кодирование\n",
    "* Всегда явно указывайте кодировку\n",
    "* Специальные кодировки base64, struct"
   ]
  },
  {
   "cell_type": "code",
   "execution_count": null,
   "metadata": {},
   "outputs": [],
   "source": [
    "ь"
   ]
  },
  {
   "cell_type": "code",
   "execution_count": 282,
   "metadata": {},
   "outputs": [
    {
     "data": {
      "text/plain": [
       "{'encoding': 'utf-8', 'language': '', 'confidence': 0.99}"
      ]
     },
     "execution_count": 282,
     "metadata": {},
     "output_type": "execute_result"
    }
   ],
   "source": [
    "chardet.detect(s.encode('latin1'))"
   ]
  },
  {
   "cell_type": "code",
   "execution_count": 177,
   "metadata": {},
   "outputs": [
    {
     "data": {
      "text/plain": [
       "'Шифровка'"
      ]
     },
     "execution_count": 177,
     "metadata": {},
     "output_type": "execute_result"
    }
   ],
   "source": [
    "s.encode('latin1').decode('utf8')"
   ]
  },
  {
   "cell_type": "code",
   "execution_count": 178,
   "metadata": {},
   "outputs": [
    {
     "data": {
      "text/plain": [
       "{'confidence': 0.99, 'encoding': 'utf-8', 'language': ''}"
      ]
     },
     "execution_count": 178,
     "metadata": {},
     "output_type": "execute_result"
    }
   ],
   "source": [
    "chardet.detect(s.encode('utf8'))"
   ]
  },
  {
   "cell_type": "code",
   "execution_count": 175,
   "metadata": {},
   "outputs": [
    {
     "data": {
      "text/plain": [
       "'Ð¨Ð¸Ñ\\x84Ñ\\x80Ð¾Ð²ÐºÐ°'"
      ]
     },
     "execution_count": 175,
     "metadata": {},
     "output_type": "execute_result"
    }
   ],
   "source": [
    "s.encode('utf8').decode('utf8')"
   ]
  },
  {
   "cell_type": "code",
   "execution_count": null,
   "metadata": {},
   "outputs": [],
   "source": []
  },
  {
   "cell_type": "code",
   "execution_count": 157,
   "metadata": {},
   "outputs": [
    {
     "data": {
      "text/plain": [
       "{'confidence': 0.5851197893802805, 'encoding': 'KOI8-R', 'language': 'Russian'}"
      ]
     },
     "execution_count": 157,
     "metadata": {},
     "output_type": "execute_result"
    }
   ],
   "source": [
    "chardet.detect(b'\\xfb\\xc9\\xc6\\xd2\\xcf\\xd7\\xcb\\xc1')"
   ]
  },
  {
   "cell_type": "code",
   "execution_count": 129,
   "metadata": {},
   "outputs": [
    {
     "data": {
      "text/plain": [
       "'Ð¨Ð¸Ñ\\x84Ñ\\x80Ð¾Ð²ÐºÐ°'"
      ]
     },
     "execution_count": 129,
     "metadata": {},
     "output_type": "execute_result"
    }
   ],
   "source": [
    "s.encode('utf8').decode('latin1')"
   ]
  },
  {
   "cell_type": "markdown",
   "metadata": {},
   "source": [
    "### 5.3.2 Обработка"
   ]
  },
  {
   "cell_type": "code",
   "execution_count": null,
   "metadata": {},
   "outputs": [],
   "source": []
  },
  {
   "cell_type": "markdown",
   "metadata": {},
   "source": [
    "### 5.3.2 Кодирование"
   ]
  },
  {
   "cell_type": "code",
   "execution_count": 70,
   "metadata": {},
   "outputs": [
    {
     "ename": "SyntaxError",
     "evalue": "invalid syntax (<ipython-input-70-cae9e218e6e8>, line 2)",
     "output_type": "error",
     "traceback": [
      "\u001b[0;36m  File \u001b[0;32m\"<ipython-input-70-cae9e218e6e8>\"\u001b[0;36m, line \u001b[0;32m2\u001b[0m\n\u001b[0;31m    codes.\u001b[0m\n\u001b[0m          ^\u001b[0m\n\u001b[0;31mSyntaxError\u001b[0m\u001b[0;31m:\u001b[0m invalid syntax\n"
     ]
    }
   ],
   "source": [
    "import codecs\n",
    "codes."
   ]
  },
  {
   "cell_type": "code",
   "execution_count": null,
   "metadata": {},
   "outputs": [],
   "source": [
    "\n",
    "\n",
    "with open('myfile.txt', 'w') as f:\n",
    "    f.write(s)"
   ]
  },
  {
   "cell_type": "code",
   "execution_count": null,
   "metadata": {},
   "outputs": [],
   "source": []
  },
  {
   "cell_type": "code",
   "execution_count": 106,
   "metadata": {},
   "outputs": [
    {
     "name": "stdout",
     "output_type": "stream",
     "text": [
      "00000000: d0a1 d182 d180 d0be d0ba d0b0 20d1 8dd1  ............ ...\r\n",
      "00000010: 82d0 be20 d0bd d0b5 d0b8 d0b7 d0bc d0b5  ... ............\r\n",
      "00000020: d0bd d18f d0b5 d0bc d0b0 d18f 20d0 bfd0  ............ ...\r\n",
      "00000030: bed1 81d0 bbd0 b5d0 b4d0 bed0 b2d0 b0d1  ................\r\n",
      "00000040: 82d0 b5d0 bbd1 8cd0 bdd0 bed1 81d1 82d1  ................\r\n",
      "00000050: 8c20 d18e d0bd d0b8 d0ba d0be d0b4 20d1  . ............ .\r\n",
      "00000060: 81d0 b8d0 bcd0 b2d0 bed0 bbd0 bed0 b2    ...............\r\n"
     ]
    }
   ],
   "source": [
    "!xxd 'myfile.txt'"
   ]
  },
  {
   "cell_type": "code",
   "execution_count": 109,
   "metadata": {},
   "outputs": [
    {
     "name": "stdout",
     "output_type": "stream",
     "text": [
      "b'\\xd0\\xa1\\xd1\\x82\\xd1\\x80\\xd0\\xbe\\xd0\\xba\\xd0\\xb0 \\xd1\\x8d\\xd1\\x82\\xd0\\xbe \\xd0\\xbd\\xd0\\xb5\\xd0\\xb8\\xd0\\xb7\\xd0\\xbc\\xd0\\xb5\\xd0\\xbd\\xd1\\x8f\\xd0\\xb5\\xd0\\xbc\\xd0\\xb0\\xd1\\x8f \\xd0\\xbf\\xd0\\xbe\\xd1\\x81\\xd0\\xbb\\xd0\\xb5\\xd0\\xb4\\xd0\\xbe\\xd0\\xb2\\xd0\\xb0\\xd1\\x82\\xd0\\xb5\\xd0\\xbb\\xd1\\x8c\\xd0\\xbd\\xd0\\xbe\\xd1\\x81\\xd1\\x82\\xd1\\x8c \\xd1\\x8e\\xd0\\xbd\\xd0\\xb8\\xd0\\xba\\xd0\\xbe\\xd0\\xb4 \\xd1\\x81\\xd0\\xb8\\xd0\\xbc\\xd0\\xb2\\xd0\\xbe\\xd0\\xbb\\xd0\\xbe\\xd0\\xb2'\n"
     ]
    }
   ],
   "source": [
    "print(s.encode('utf8'))"
   ]
  },
  {
   "cell_type": "code",
   "execution_count": 78,
   "metadata": {},
   "outputs": [
    {
     "data": {
      "text/plain": [
       "b'\\xd8\\xe8\\xf4\\xf0\\xee\\xe2\\xea\\xe0'"
      ]
     },
     "execution_count": 78,
     "metadata": {},
     "output_type": "execute_result"
    }
   ],
   "source": [
    "\n",
    "\n",
    "s = 'Шифровка'\n",
    "s.encode('cp1251')"
   ]
  },
  {
   "cell_type": "code",
   "execution_count": 80,
   "metadata": {},
   "outputs": [
    {
     "data": {
      "text/plain": [
       "'Øèôðîâêà'"
      ]
     },
     "execution_count": 80,
     "metadata": {},
     "output_type": "execute_result"
    }
   ],
   "source": [
    "b'\\xd8\\xe8\\xf4\\xf0\\xee\\xe2\\xea\\xe0'.decode('cp1252')"
   ]
  },
  {
   "cell_type": "code",
   "execution_count": 81,
   "metadata": {},
   "outputs": [
    {
     "data": {
      "text/plain": [
       "b'\\xd0\\xa8\\xd0\\xb8\\xd1\\x84\\xd1\\x80\\xd0\\xbe\\xd0\\xb2\\xd0\\xba\\xd0\\xb0'"
      ]
     },
     "execution_count": 81,
     "metadata": {},
     "output_type": "execute_result"
    }
   ],
   "source": [
    "s.encode('utf8')"
   ]
  },
  {
   "cell_type": "code",
   "execution_count": 82,
   "metadata": {},
   "outputs": [
    {
     "data": {
      "text/plain": [
       "'РЁРёС„СЂРѕРІРєР°'"
      ]
     },
     "execution_count": 82,
     "metadata": {},
     "output_type": "execute_result"
    }
   ],
   "source": [
    "b'\\xd0\\xa8\\xd0\\xb8\\xd1\\x84\\xd1\\x80\\xd0\\xbe\\xd0\\xb2\\xd0\\xba\\xd0\\xb0'.decode('cp1251')"
   ]
  },
  {
   "cell_type": "code",
   "execution_count": 90,
   "metadata": {},
   "outputs": [
    {
     "data": {
      "text/plain": [
       "b'\\xd0\\xa8\\xd0\\xb8\\xd1\\x84\\xd1\\x80\\xd0\\xbe\\xd0\\xb2\\xd0\\xba\\xd0\\xb0'"
      ]
     },
     "execution_count": 90,
     "metadata": {},
     "output_type": "execute_result"
    }
   ],
   "source": [
    "s.encode('utf8')"
   ]
  },
  {
   "cell_type": "code",
   "execution_count": 94,
   "metadata": {},
   "outputs": [
    {
     "data": {
      "text/plain": [
       "'꣐룐蓑胑뻐닐뫐냐'"
      ]
     },
     "execution_count": 94,
     "metadata": {},
     "output_type": "execute_result"
    }
   ],
   "source": [
    "b'\\xd0\\xa8\\xd0\\xb8\\xd1\\x84\\xd1\\x80\\xd0\\xbe\\xd0\\xb2\\xd0\\xba\\xd0\\xb0'.decode('utf16')"
   ]
  },
  {
   "cell_type": "code",
   "execution_count": 101,
   "metadata": {},
   "outputs": [
    {
     "data": {
      "text/plain": [
       "'п╗п╦я└я─п╬п╡п╨п╟'"
      ]
     },
     "execution_count": 101,
     "metadata": {},
     "output_type": "execute_result"
    }
   ],
   "source": [
    "s.encode('utf8').decode('koi8-r')"
   ]
  },
  {
   "cell_type": "code",
   "execution_count": 103,
   "metadata": {},
   "outputs": [
    {
     "data": {
      "text/plain": [
       "b'\\xfb\\xc9\\xc6\\xd2\\xcf\\xd7\\xcb\\xc1'"
      ]
     },
     "execution_count": 103,
     "metadata": {},
     "output_type": "execute_result"
    }
   ],
   "source": [
    "s.encode('koi8-r')"
   ]
  },
  {
   "cell_type": "code",
   "execution_count": 109,
   "metadata": {},
   "outputs": [
    {
     "ename": "UnicodeDecodeError",
     "evalue": "'utf-8' codec can't decode byte 0xd8 in position 0: invalid continuation byte",
     "output_type": "error",
     "traceback": [
      "\u001b[0;31m---------------------------------------------------------------------------\u001b[0m",
      "\u001b[0;31mUnicodeDecodeError\u001b[0m                        Traceback (most recent call last)",
      "\u001b[0;32m<ipython-input-109-8ad010e7b594>\u001b[0m in \u001b[0;36m<module>\u001b[0;34m()\u001b[0m\n\u001b[0;32m----> 1\u001b[0;31m \u001b[0ms\u001b[0m\u001b[0;34m.\u001b[0m\u001b[0mencode\u001b[0m\u001b[0;34m(\u001b[0m\u001b[0;34m'cp1251'\u001b[0m\u001b[0;34m)\u001b[0m\u001b[0;34m.\u001b[0m\u001b[0mdecode\u001b[0m\u001b[0;34m(\u001b[0m\u001b[0;34m'utf8'\u001b[0m\u001b[0;34m)\u001b[0m\u001b[0;34m\u001b[0m\u001b[0m\n\u001b[0m",
      "\u001b[0;31mUnicodeDecodeError\u001b[0m: 'utf-8' codec can't decode byte 0xd8 in position 0: invalid continuation byte"
     ]
    }
   ],
   "source": [
    "s.encode('cp1251').decode('utf8')"
   ]
  },
  {
   "cell_type": "code",
   "execution_count": 119,
   "metadata": {},
   "outputs": [
    {
     "data": {
      "text/plain": [
       "'╪шЇЁютър'"
      ]
     },
     "execution_count": 119,
     "metadata": {},
     "output_type": "execute_result"
    }
   ],
   "source": [
    "s.encode('cp1251').decode('cp866')"
   ]
  },
  {
   "cell_type": "code",
   "execution_count": 154,
   "metadata": {},
   "outputs": [],
   "source": [
    "# import codecs\n",
    "# dir(codecs)"
   ]
  },
  {
   "cell_type": "code",
   "execution_count": 187,
   "metadata": {},
   "outputs": [
    {
     "data": {
      "text/plain": [
       "'ñàéò'"
      ]
     },
     "execution_count": 187,
     "metadata": {},
     "output_type": "execute_result"
    }
   ],
   "source": [
    "'сайт'.encode('cp1251').decode('latin1')"
   ]
  },
  {
   "cell_type": "code",
   "execution_count": 193,
   "metadata": {},
   "outputs": [
    {
     "data": {
      "text/plain": [
       "'Приветствую всех'"
      ]
     },
     "execution_count": 193,
     "metadata": {},
     "output_type": "execute_result"
    }
   ],
   "source": [
    "'Ïðèâåòñòâóþ âñåõ'.encode('latin1').decode('cp1251')"
   ]
  },
  {
   "cell_type": "code",
   "execution_count": null,
   "metadata": {},
   "outputs": [],
   "source": []
  }
 ],
 "metadata": {
  "kernelspec": {
   "display_name": "Python 3",
   "language": "python",
   "name": "python3"
  },
  "language_info": {
   "codemirror_mode": {
    "name": "ipython",
    "version": 3
   },
   "file_extension": ".py",
   "mimetype": "text/x-python",
   "name": "python",
   "nbconvert_exporter": "python",
   "pygments_lexer": "ipython3",
   "version": "3.5.2"
  }
 },
 "nbformat": 4,
 "nbformat_minor": 2
}

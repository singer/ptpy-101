{
 "cells": [
  {
   "cell_type": "markdown",
   "metadata": {},
   "source": [
    "## 0. Docker\n",
    "Это средство контейниризации. Вся суть контениризвации свести к минимуму, установку и настройку зависимостией, доп библиотек, дополнительного ПО, для запуска программы. Так же допиться переносимости и воспроизводимости результатов работы программы."
   ]
  },
  {
   "cell_type": "markdown",
   "metadata": {},
   "source": [
    "## 0.1 Image и контейнер\n",
    "![](_static/image_vs_container.jpg)"
   ]
  },
  {
   "cell_type": "code",
   "execution_count": 6,
   "metadata": {},
   "outputs": [
    {
     "name": "stdout",
     "output_type": "stream",
     "text": [
      "REPOSITORY          TAG                 IMAGE ID            CREATED             SIZE\r\n"
     ]
    }
   ],
   "source": [
    "!docker image ls"
   ]
  },
  {
   "cell_type": "code",
   "execution_count": 8,
   "metadata": {},
   "outputs": [
    {
     "name": "stdout",
     "output_type": "stream",
     "text": [
      "Unable to find image 'hello-world:latest' locally\n",
      "latest: Pulling from library/hello-world\n",
      "\n",
      "\u001b[1BDigest: sha256:f5233545e43561214ca4891fd1157e1c3c563316ed8e237750d59bde73361e77\n",
      "Status: Downloaded newer image for hello-world:latest\n",
      "\n",
      "Hello from Docker!\n",
      "This message shows that your installation appears to be working correctly.\n",
      "\n",
      "To generate this message, Docker took the following steps:\n",
      " 1. The Docker client contacted the Docker daemon.\n",
      " 2. The Docker daemon pulled the \"hello-world\" image from the Docker Hub.\n",
      "    (amd64)\n",
      " 3. The Docker daemon created a new container from that image which runs the\n",
      "    executable that produces the output you are currently reading.\n",
      " 4. The Docker daemon streamed that output to the Docker client, which sent it\n",
      "    to your terminal.\n",
      "\n",
      "To try something more ambitious, you can run an Ubuntu container with:\n",
      " $ docker run -it ubuntu bash\n",
      "\n",
      "Share images, automate workflows, and more with a free Docker ID:\n",
      " https://hub.docker.com/\n",
      "\n",
      "For more examples and ideas, visit:\n",
      " https://docs.docker.com/engine/userguide/\n",
      "\n"
     ]
    }
   ],
   "source": [
    "!docker run hello-world"
   ]
  },
  {
   "cell_type": "code",
   "execution_count": 11,
   "metadata": {},
   "outputs": [
    {
     "name": "stdout",
     "output_type": "stream",
     "text": [
      "REPOSITORY          TAG                 IMAGE ID            CREATED             SIZE\r\n",
      "hello-world         latest              e38bc07ac18e        3 days ago          1.85kB\r\n"
     ]
    }
   ],
   "source": [
    "!docker image ls"
   ]
  },
  {
   "cell_type": "markdown",
   "metadata": {},
   "source": [
    "Теперь посмотрим запущеные контейнеры"
   ]
  },
  {
   "cell_type": "code",
   "execution_count": 12,
   "metadata": {},
   "outputs": [
    {
     "name": "stdout",
     "output_type": "stream",
     "text": [
      "CONTAINER ID        IMAGE               COMMAND             CREATED             STATUS              PORTS               NAMES\r\n"
     ]
    }
   ],
   "source": [
    "!docker container ls"
   ]
  },
  {
   "cell_type": "code",
   "execution_count": 13,
   "metadata": {},
   "outputs": [
    {
     "name": "stdout",
     "output_type": "stream",
     "text": [
      "CONTAINER ID        IMAGE               COMMAND             CREATED             STATUS                      PORTS               NAMES\r\n",
      "152153344bc8        hello-world         \"/hello\"            50 seconds ago      Exited (0) 49 seconds ago                       festive_goodall\r\n"
     ]
    }
   ],
   "source": [
    "!docker container ls --all"
   ]
  },
  {
   "cell_type": "markdown",
   "metadata": {},
   "source": [
    "### 0.2 Создание docker image\n",
    "Image билдится (build) из файла специального формата который называется Dockerfile. Формат такой"
   ]
  },
  {
   "cell_type": "markdown",
   "metadata": {},
   "source": [
    "```\n",
    "FROM base_image\n",
    "COPY something somewere\n",
    "RUN some_command\n",
    "```"
   ]
  },
  {
   "cell_type": "markdown",
   "metadata": {},
   "source": [
    "создадим имедж с убутной и поставим туда python"
   ]
  },
  {
   "cell_type": "code",
   "execution_count": 42,
   "metadata": {},
   "outputs": [
    {
     "name": "stdout",
     "output_type": "stream",
     "text": [
      "Sending build context to Docker daemon   2.56kB\n",
      "Step 1/2 : FROM ubuntu:16.04\n",
      " ---> c9d990395902\n",
      "Step 2/2 : RUN apt-get update && apt-get install -y python3\n",
      " ---> Running in b741fc8dd8fd\n",
      "Get:1 http://archive.ubuntu.com/ubuntu xenial InRelease [247 kB]\n",
      "Get:2 http://security.ubuntu.com/ubuntu xenial-security InRelease [102 kB]\n",
      "Get:3 http://archive.ubuntu.com/ubuntu xenial-updates InRelease [102 kB]\n",
      "Get:4 http://security.ubuntu.com/ubuntu xenial-security/universe Sources [78.5 kB]\n",
      "Get:5 http://archive.ubuntu.com/ubuntu xenial-backports InRelease [102 kB]\n",
      "Get:6 http://archive.ubuntu.com/ubuntu xenial/universe Sources [9802 kB]\n",
      "Get:7 http://security.ubuntu.com/ubuntu xenial-security/main amd64 Packages [602 kB]\n",
      "Get:8 http://security.ubuntu.com/ubuntu xenial-security/restricted amd64 Packages [12.7 kB]\n",
      "Get:9 http://security.ubuntu.com/ubuntu xenial-security/universe amd64 Packages [431 kB]\n",
      "Get:10 http://security.ubuntu.com/ubuntu xenial-security/multiverse amd64 Packages [3489 B]\n",
      "Get:11 http://archive.ubuntu.com/ubuntu xenial/main amd64 Packages [1558 kB]\n",
      "Get:12 http://archive.ubuntu.com/ubuntu xenial/restricted amd64 Packages [14.1 kB]\n",
      "Get:13 http://archive.ubuntu.com/ubuntu xenial/universe amd64 Packages [9827 kB]\n",
      "Get:14 http://archive.ubuntu.com/ubuntu xenial/multiverse amd64 Packages [176 kB]\n",
      "Get:15 http://archive.ubuntu.com/ubuntu xenial-updates/universe Sources [252 kB]\n",
      "Get:16 http://archive.ubuntu.com/ubuntu xenial-updates/main amd64 Packages [975 kB]\n",
      "Get:17 http://archive.ubuntu.com/ubuntu xenial-updates/restricted amd64 Packages [13.1 kB]\n",
      "Get:18 http://archive.ubuntu.com/ubuntu xenial-updates/universe amd64 Packages [799 kB]\n",
      "Get:19 http://archive.ubuntu.com/ubuntu xenial-updates/multiverse amd64 Packages [18.5 kB]\n",
      "Get:20 http://archive.ubuntu.com/ubuntu xenial-backports/main amd64 Packages [5153 B]\n",
      "Get:21 http://archive.ubuntu.com/ubuntu xenial-backports/universe amd64 Packages [7734 B]\n",
      "Fetched 25.1 MB in 1min 8s (368 kB/s)\n",
      "Reading package lists...\n",
      "Reading package lists...\n",
      "Building dependency tree...\n",
      "Reading state information...\n",
      "The following additional packages will be installed:\n",
      "  dh-python file libexpat1 libmagic1 libmpdec2 libpython3-stdlib\n",
      "  libpython3.5-minimal libpython3.5-stdlib libsqlite3-0 libssl1.0.0\n",
      "  mime-support python3-minimal python3.5 python3.5-minimal\n",
      "Suggested packages:\n",
      "  libdpkg-perl python3-doc python3-tk python3-venv python3.5-venv\n",
      "  python3.5-doc binutils binfmt-support\n",
      "The following NEW packages will be installed:\n",
      "  dh-python file libexpat1 libmagic1 libmpdec2 libpython3-stdlib\n",
      "  libpython3.5-minimal libpython3.5-stdlib libsqlite3-0 libssl1.0.0\n",
      "  mime-support python3 python3-minimal python3.5 python3.5-minimal\n",
      "0 upgraded, 15 newly installed, 0 to remove and 0 not upgraded.\n",
      "Need to get 6431 kB of archives.\n",
      "After this operation, 33.3 MB of additional disk space will be used.\n",
      "Get:1 http://archive.ubuntu.com/ubuntu xenial-updates/main amd64 libssl1.0.0 amd64 1.0.2g-1ubuntu4.11 [1082 kB]\n",
      "Get:2 http://archive.ubuntu.com/ubuntu xenial-updates/main amd64 libpython3.5-minimal amd64 3.5.2-2ubuntu0~16.04.4 [523 kB]\n",
      "Get:3 http://archive.ubuntu.com/ubuntu xenial-updates/main amd64 libexpat1 amd64 2.1.0-7ubuntu0.16.04.3 [71.2 kB]\n",
      "Get:4 http://archive.ubuntu.com/ubuntu xenial-updates/main amd64 python3.5-minimal amd64 3.5.2-2ubuntu0~16.04.4 [1597 kB]\n",
      "Get:5 http://archive.ubuntu.com/ubuntu xenial/main amd64 python3-minimal amd64 3.5.1-3 [23.3 kB]\n",
      "Get:6 http://archive.ubuntu.com/ubuntu xenial/main amd64 mime-support all 3.59ubuntu1 [31.0 kB]\n",
      "Get:7 http://archive.ubuntu.com/ubuntu xenial/main amd64 libmpdec2 amd64 2.4.2-1 [82.6 kB]\n",
      "Get:8 http://archive.ubuntu.com/ubuntu xenial/main amd64 libsqlite3-0 amd64 3.11.0-1ubuntu1 [396 kB]\n",
      "Get:9 http://archive.ubuntu.com/ubuntu xenial-updates/main amd64 libpython3.5-stdlib amd64 3.5.2-2ubuntu0~16.04.4 [2132 kB]\n",
      "Get:10 http://archive.ubuntu.com/ubuntu xenial-updates/main amd64 python3.5 amd64 3.5.2-2ubuntu0~16.04.4 [165 kB]\n",
      "Get:11 http://archive.ubuntu.com/ubuntu xenial/main amd64 libpython3-stdlib amd64 3.5.1-3 [6818 B]\n",
      "Get:12 http://archive.ubuntu.com/ubuntu xenial-updates/main amd64 dh-python all 2.20151103ubuntu1.1 [74.1 kB]\n",
      "Get:13 http://archive.ubuntu.com/ubuntu xenial/main amd64 python3 amd64 3.5.1-3 [8710 B]\n",
      "Get:14 http://archive.ubuntu.com/ubuntu xenial/main amd64 libmagic1 amd64 1:5.25-2ubuntu1 [216 kB]\n",
      "Get:15 http://archive.ubuntu.com/ubuntu xenial/main amd64 file amd64 1:5.25-2ubuntu1 [21.2 kB]\n",
      "\u001b[91mdebconf: delaying package configuration, since apt-utils is not installed\n",
      "\u001b[0mFetched 6431 kB in 19s (327 kB/s)\n",
      "Selecting previously unselected package libssl1.0.0:amd64.\n",
      "(Reading database ... 4768 files and directories currently installed.)\n",
      "Preparing to unpack .../libssl1.0.0_1.0.2g-1ubuntu4.11_amd64.deb ...\n",
      "Unpacking libssl1.0.0:amd64 (1.0.2g-1ubuntu4.11) ...\n",
      "Selecting previously unselected package libpython3.5-minimal:amd64.\n",
      "Preparing to unpack .../libpython3.5-minimal_3.5.2-2ubuntu0~16.04.4_amd64.deb ...\n",
      "Unpacking libpython3.5-minimal:amd64 (3.5.2-2ubuntu0~16.04.4) ...\n",
      "Selecting previously unselected package libexpat1:amd64.\n",
      "Preparing to unpack .../libexpat1_2.1.0-7ubuntu0.16.04.3_amd64.deb ...\n",
      "Unpacking libexpat1:amd64 (2.1.0-7ubuntu0.16.04.3) ...\n",
      "Selecting previously unselected package python3.5-minimal.\n",
      "Preparing to unpack .../python3.5-minimal_3.5.2-2ubuntu0~16.04.4_amd64.deb ...\n",
      "Unpacking python3.5-minimal (3.5.2-2ubuntu0~16.04.4) ...\n",
      "Selecting previously unselected package python3-minimal.\n",
      "Preparing to unpack .../python3-minimal_3.5.1-3_amd64.deb ...\n",
      "Unpacking python3-minimal (3.5.1-3) ...\n",
      "Selecting previously unselected package mime-support.\n",
      "Preparing to unpack .../mime-support_3.59ubuntu1_all.deb ...\n",
      "Unpacking mime-support (3.59ubuntu1) ...\n",
      "Selecting previously unselected package libmpdec2:amd64.\n",
      "Preparing to unpack .../libmpdec2_2.4.2-1_amd64.deb ...\n",
      "Unpacking libmpdec2:amd64 (2.4.2-1) ...\n",
      "Selecting previously unselected package libsqlite3-0:amd64.\n",
      "Preparing to unpack .../libsqlite3-0_3.11.0-1ubuntu1_amd64.deb ...\n",
      "Unpacking libsqlite3-0:amd64 (3.11.0-1ubuntu1) ...\n",
      "Selecting previously unselected package libpython3.5-stdlib:amd64.\n",
      "Preparing to unpack .../libpython3.5-stdlib_3.5.2-2ubuntu0~16.04.4_amd64.deb ...\n",
      "Unpacking libpython3.5-stdlib:amd64 (3.5.2-2ubuntu0~16.04.4) ...\n",
      "Selecting previously unselected package python3.5.\n",
      "Preparing to unpack .../python3.5_3.5.2-2ubuntu0~16.04.4_amd64.deb ...\n",
      "Unpacking python3.5 (3.5.2-2ubuntu0~16.04.4) ...\n",
      "Selecting previously unselected package libpython3-stdlib:amd64.\n",
      "Preparing to unpack .../libpython3-stdlib_3.5.1-3_amd64.deb ...\n",
      "Unpacking libpython3-stdlib:amd64 (3.5.1-3) ...\n",
      "Selecting previously unselected package dh-python.\n",
      "Preparing to unpack .../dh-python_2.20151103ubuntu1.1_all.deb ...\n",
      "Unpacking dh-python (2.20151103ubuntu1.1) ...\n",
      "Processing triggers for libc-bin (2.23-0ubuntu10) ...\n",
      "Setting up libssl1.0.0:amd64 (1.0.2g-1ubuntu4.11) ...\n",
      "debconf: unable to initialize frontend: Dialog\n",
      "debconf: (TERM is not set, so the dialog frontend is not usable.)\n",
      "debconf: falling back to frontend: Readline\n",
      "debconf: unable to initialize frontend: Readline\n",
      "debconf: (Can't locate Term/ReadLine.pm in @INC (you may need to install the Term::ReadLine module) (@INC contains: /etc/perl /usr/local/lib/x86_64-linux-gnu/perl/5.22.1 /usr/local/share/perl/5.22.1 /usr/lib/x86_64-linux-gnu/perl5/5.22 /usr/share/perl5 /usr/lib/x86_64-linux-gnu/perl/5.22 /usr/share/perl/5.22 /usr/local/lib/site_perl /usr/lib/x86_64-linux-gnu/perl-base .) at /usr/share/perl5/Debconf/FrontEnd/Readline.pm line 7.)\n",
      "debconf: falling back to frontend: Teletype\n",
      "Setting up libpython3.5-minimal:amd64 (3.5.2-2ubuntu0~16.04.4) ...\n",
      "Setting up libexpat1:amd64 (2.1.0-7ubuntu0.16.04.3) ...\n",
      "Setting up python3.5-minimal (3.5.2-2ubuntu0~16.04.4) ...\n",
      "Setting up python3-minimal (3.5.1-3) ...\n",
      "Processing triggers for libc-bin (2.23-0ubuntu10) ...\n",
      "Selecting previously unselected package python3.\n",
      "(Reading database ... 5744 files and directories currently installed.)\n",
      "Preparing to unpack .../python3_3.5.1-3_amd64.deb ...\n",
      "Unpacking python3 (3.5.1-3) ...\n",
      "Selecting previously unselected package libmagic1:amd64.\n",
      "Preparing to unpack .../libmagic1_1%3a5.25-2ubuntu1_amd64.deb ...\n",
      "Unpacking libmagic1:amd64 (1:5.25-2ubuntu1) ...\n"
     ]
    },
    {
     "name": "stdout",
     "output_type": "stream",
     "text": [
      "Selecting previously unselected package file.\n",
      "Preparing to unpack .../file_1%3a5.25-2ubuntu1_amd64.deb ...\n",
      "Unpacking file (1:5.25-2ubuntu1) ...\n",
      "Processing triggers for libc-bin (2.23-0ubuntu10) ...\n",
      "Setting up mime-support (3.59ubuntu1) ...\n",
      "Setting up libmpdec2:amd64 (2.4.2-1) ...\n",
      "Setting up libsqlite3-0:amd64 (3.11.0-1ubuntu1) ...\n",
      "Setting up libpython3.5-stdlib:amd64 (3.5.2-2ubuntu0~16.04.4) ...\n",
      "Setting up python3.5 (3.5.2-2ubuntu0~16.04.4) ...\n",
      "Setting up libpython3-stdlib:amd64 (3.5.1-3) ...\n",
      "Setting up libmagic1:amd64 (1:5.25-2ubuntu1) ...\n",
      "Setting up file (1:5.25-2ubuntu1) ...\n",
      "Setting up python3 (3.5.1-3) ...\n",
      "running python rtupdate hooks for python3.5...\n",
      "running python post-rtupdate hooks for python3.5...\n",
      "Setting up dh-python (2.20151103ubuntu1.1) ...\n",
      "Processing triggers for libc-bin (2.23-0ubuntu10) ...\n",
      "Removing intermediate container b741fc8dd8fd\n",
      " ---> c03900fbba20\n",
      "Successfully built c03900fbba20\n",
      "Successfully tagged img-ubuntu-python:latest\n"
     ]
    }
   ],
   "source": [
    "!cd ./docker/img-ubuntu-python/ && docker build . -t img-ubuntu-python"
   ]
  },
  {
   "cell_type": "markdown",
   "metadata": {},
   "source": [
    "### 0.3 Docker run и exec\n",
    "Для того чтобы создать из имеджа контейнер и запустить там что-нибудь используется коммада docker run"
   ]
  },
  {
   "cell_type": "code",
   "execution_count": 26,
   "metadata": {},
   "outputs": [
    {
     "name": "stdout",
     "output_type": "stream",
     "text": [
      "CONTAINER ID        IMAGE               COMMAND             CREATED             STATUS              PORTS               NAMES\r\n"
     ]
    }
   ],
   "source": [
    "!docker container ls"
   ]
  },
  {
   "cell_type": "code",
   "execution_count": 43,
   "metadata": {},
   "outputs": [
    {
     "name": "stdout",
     "output_type": "stream",
     "text": [
      "DISTRIB_ID=Ubuntu\r\n",
      "DISTRIB_RELEASE=16.04\r\n",
      "DISTRIB_CODENAME=xenial\r\n",
      "DISTRIB_DESCRIPTION=\"Ubuntu 16.04.4 LTS\"\r\n"
     ]
    }
   ],
   "source": [
    "!docker run img-ubuntu-python cat /etc/lsb-release"
   ]
  },
  {
   "cell_type": "markdown",
   "metadata": {},
   "source": [
    "Можно убедиться что мы на другой операционной системе"
   ]
  },
  {
   "cell_type": "code",
   "execution_count": 44,
   "metadata": {},
   "outputs": [
    {
     "name": "stdout",
     "output_type": "stream",
     "text": [
      "DISTRIB_ID=LinuxMint\r\n",
      "DISTRIB_RELEASE=18\r\n",
      "DISTRIB_CODENAME=sarah\r\n",
      "DISTRIB_DESCRIPTION=\"Linux Mint 18 Sarah\"\r\n"
     ]
    }
   ],
   "source": [
    "!cat /etc/lsb-release"
   ]
  },
  {
   "cell_type": "code",
   "execution_count": 9,
   "metadata": {},
   "outputs": [
    {
     "name": "stdout",
     "output_type": "stream",
     "text": [
      "8d35d81ec7e522d60f2b555b803b28bfb1cc7fbc94fdc90912f092b9de061e81\r\n"
     ]
    }
   ],
   "source": [
    "!docker run --name ubuntu-python -d img-ubuntu-python bash -c 'while true; do sleep 60; done;' "
   ]
  },
  {
   "cell_type": "code",
   "execution_count": 10,
   "metadata": {},
   "outputs": [
    {
     "name": "stdout",
     "output_type": "stream",
     "text": [
      "CONTAINER ID        IMAGE               COMMAND                  CREATED             STATUS              PORTS               NAMES\r\n",
      "8d35d81ec7e5        img-ubuntu-python   \"bash -c 'while true…\"   3 seconds ago       Up 1 second                             ubuntu-python\r\n",
      "bea21b56943f        img-ubuntu-python   \"bash -c 'while true…\"   54 seconds ago      Up 53 seconds                           kind_babbage\r\n"
     ]
    }
   ],
   "source": [
    "!docker container ls"
   ]
  },
  {
   "cell_type": "code",
   "execution_count": 12,
   "metadata": {},
   "outputs": [
    {
     "name": "stdout",
     "output_type": "stream",
     "text": [
      "  PID TTY      STAT   TIME COMMAND\r\n",
      "    1 ?        Ss     0:00 bash -c while true; do sleep 60; done;\r\n",
      "    7 ?        S      0:00 sleep 60\r\n",
      "   14 ?        Rs     0:00 ps ax\r\n"
     ]
    }
   ],
   "source": [
    "!docker exec ubuntu-python ps ax "
   ]
  },
  {
   "cell_type": "markdown",
   "metadata": {},
   "source": [
    "Про интерактивный режим"
   ]
  },
  {
   "cell_type": "markdown",
   "metadata": {},
   "source": [
    "## 0.4 Создание контейнера с ssh сервером"
   ]
  },
  {
   "cell_type": "code",
   "execution_count": 13,
   "metadata": {},
   "outputs": [
    {
     "name": "stdout",
     "output_type": "stream",
     "text": [
      "Sending build context to Docker daemon   2.56kB\n",
      "Step 1/10 : FROM ubuntu:16.04\n",
      " ---> c9d990395902\n",
      "Step 2/10 : RUN apt-get update && apt-get install -y openssh-server\n",
      " ---> Using cache\n",
      " ---> b1cd4579213a\n",
      "Step 3/10 : RUN mkdir /var/run/sshd\n",
      " ---> Running in e48fc3612c4f\n",
      "Removing intermediate container e48fc3612c4f\n",
      " ---> b4bfb3d20018\n",
      "Step 4/10 : RUN echo 'root:pwd' | chpasswd\n",
      " ---> Running in acbd4d3219cf\n",
      "Removing intermediate container acbd4d3219cf\n",
      " ---> f9de9f4c37b5\n",
      "Step 5/10 : RUN sed -i 's/PermitRootLogin prohibit-password/PermitRootLogin yes/' /etc/ssh/sshd_config\n",
      " ---> Running in 48ae498c9cab\n",
      "Removing intermediate container 48ae498c9cab\n",
      " ---> 5079295f9f12\n",
      "Step 6/10 : RUN sed 's@session\\s*required\\s*pam_loginuid.so@session optional pam_loginuid.so@g' -i /etc/pam.d/sshd\n",
      " ---> Running in 19c904d684b6\n",
      "Removing intermediate container 19c904d684b6\n",
      " ---> 2f0ca8f3e760\n",
      "Step 7/10 : ENV NOTVISIBLE \"in users profile\"\n",
      " ---> Running in ade6149bba8f\n",
      "Removing intermediate container ade6149bba8f\n",
      " ---> a1efb26f56ad\n",
      "Step 8/10 : RUN echo \"export VISIBLE=now\" >> /etc/profile\n",
      " ---> Running in 60df1c14584c\n",
      "Removing intermediate container 60df1c14584c\n",
      " ---> b8d79e5aea6d\n",
      "Step 9/10 : EXPOSE 22\n",
      " ---> Running in 318b0304eb3d\n",
      "Removing intermediate container 318b0304eb3d\n",
      " ---> c69c98678231\n",
      "Step 10/10 : CMD [\"/usr/sbin/sshd\", \"-D\"]\n",
      " ---> Running in 4d0881058adf\n",
      "Removing intermediate container 4d0881058adf\n",
      " ---> b2ed71c5962e\n",
      "Successfully built b2ed71c5962e\n",
      "Successfully tagged img-ubuntu-sshd:latest\n"
     ]
    }
   ],
   "source": [
    "!cd ./docker/img-ubuntu-sshd/ && docker build . -t img-ubuntu-sshd"
   ]
  },
  {
   "cell_type": "code",
   "execution_count": 23,
   "metadata": {},
   "outputs": [
    {
     "name": "stdout",
     "output_type": "stream",
     "text": [
      "docker: Error response from daemon: Conflict. The container name \"/cont-ubuntu-sshd\" is already in use by container \"897e34c1bfba32e76c87c5e3ef60c187df9805b386f536e4526804081cd31204\". You have to remove (or rename) that container to be able to reuse that name.\r\n",
      "See 'docker run --help'.\r\n"
     ]
    }
   ],
   "source": [
    "!docker run -d -p 22022:22 --name cont-ubuntu-sshd img-ubuntu-sshd "
   ]
  },
  {
   "cell_type": "markdown",
   "metadata": {},
   "source": [
    "### 0.4 Очистка"
   ]
  },
  {
   "cell_type": "code",
   "execution_count": 48,
   "metadata": {},
   "outputs": [
    {
     "name": "stdout",
     "output_type": "stream",
     "text": [
      "CONTAINER ID        IMAGE               COMMAND               CREATED              STATUS              PORTS                   NAMES\r\n",
      "de88e7fea95d        img-ubuntu-sshd     \"/usr/sbin/sshd -D\"   About a minute ago   Up About a minute   0.0.0.0:22022->22/tcp   cont-ubuntu-sshd\r\n"
     ]
    }
   ],
   "source": [
    "!docker container ls"
   ]
  },
  {
   "cell_type": "code",
   "execution_count": 49,
   "metadata": {},
   "outputs": [
    {
     "name": "stdout",
     "output_type": "stream",
     "text": [
      "de88e7fea95d\r\n"
     ]
    }
   ],
   "source": [
    "!docker stop $(docker ps -q) # kill"
   ]
  },
  {
   "cell_type": "code",
   "execution_count": 50,
   "metadata": {},
   "outputs": [
    {
     "name": "stdout",
     "output_type": "stream",
     "text": [
      "CONTAINER ID        IMAGE               COMMAND             CREATED             STATUS              PORTS               NAMES\r\n"
     ]
    }
   ],
   "source": [
    "!docker container ls"
   ]
  },
  {
   "cell_type": "code",
   "execution_count": 51,
   "metadata": {},
   "outputs": [
    {
     "name": "stdout",
     "output_type": "stream",
     "text": [
      "CONTAINER ID        IMAGE               COMMAND               CREATED              STATUS                    PORTS               NAMES\r\n",
      "de88e7fea95d        img-ubuntu-sshd     \"/usr/sbin/sshd -D\"   About a minute ago   Exited (0) 1 second ago                       cont-ubuntu-sshd\r\n"
     ]
    }
   ],
   "source": [
    "!docker container ls --all "
   ]
  },
  {
   "cell_type": "code",
   "execution_count": 52,
   "metadata": {},
   "outputs": [
    {
     "name": "stdout",
     "output_type": "stream",
     "text": [
      "Deleted Containers:\r\n",
      "de88e7fea95dfaeb6da7086c36300588015ddf92cef85c1be38673af1d32c9d3\r\n",
      "\r\n",
      "Total reclaimed space: 32.32kB\r\n"
     ]
    }
   ],
   "source": [
    "!docker container prune -f"
   ]
  },
  {
   "cell_type": "code",
   "execution_count": 53,
   "metadata": {},
   "outputs": [
    {
     "name": "stdout",
     "output_type": "stream",
     "text": [
      "WARNING! This will remove:\n",
      "        - all stopped containers\n",
      "        - all networks not used by at least one container\n",
      "        - all dangling images\n",
      "        - all build cache\n",
      "Are you sure you want to continue? [y/N] ^C\n"
     ]
    }
   ],
   "source": [
    "!docker system prune "
   ]
  },
  {
   "cell_type": "code",
   "execution_count": 55,
   "metadata": {},
   "outputs": [
    {
     "name": "stdout",
     "output_type": "stream",
     "text": [
      "Total reclaimed space: 0B\r\n"
     ]
    }
   ],
   "source": [
    "!docker system prune -f"
   ]
  },
  {
   "cell_type": "code",
   "execution_count": 57,
   "metadata": {},
   "outputs": [
    {
     "name": "stdout",
     "output_type": "stream",
     "text": [
      "REPOSITORY          TAG                 IMAGE ID            CREATED             SIZE\r\n",
      "img-ubuntu-sshd     latest              e543cd4d1c4e        25 minutes ago      208MB\r\n",
      "ubuntu              16.04               c9d990395902        3 days ago          113MB\r\n"
     ]
    }
   ],
   "source": [
    "!docker image ls"
   ]
  },
  {
   "cell_type": "code",
   "execution_count": 58,
   "metadata": {},
   "outputs": [
    {
     "name": "stdout",
     "output_type": "stream",
     "text": [
      "Untagged: img-ubuntu-sshd:latest\r\n",
      "Deleted: sha256:e543cd4d1c4e1d8e5391994b76a2dd5d89b7081ac8a7c2ad8a67648f34a2cca9\r\n",
      "Deleted: sha256:c13b5f1a72dcf9d69d68a04bf9bb30edcfc9f790ce6c4da637eae8c68bab233d\r\n",
      "Deleted: sha256:a6bde93d3bf0ff5850f2f633506248359724b7aced53ccf306cee85a888bbfd4\r\n",
      "Deleted: sha256:74274971fc9df4f2830f14c8d35c2efecf727105d92f8fb86b639c7d5d6a0b77\r\n",
      "Deleted: sha256:6be071bdafd2e826e2777a73e02e20367226ca7b42d5003ce08a02fd5b455896\r\n",
      "Deleted: sha256:cfbd8b8cb452e26ba010718dc98fbacf8ea30a88f85c7e820461ce01d1ba6420\r\n",
      "Deleted: sha256:55df085c65cfa522b52268b512e4037466951f10edb2805f5475bb159d6f4bcc\r\n",
      "Deleted: sha256:eecb98f47155ed236a9d487b3157675d6e9ce48f342275b05c2f871022bf3275\r\n",
      "Deleted: sha256:0f7bc431e42a24dc75f1a988d37d87ed24e756393cfda24b6332a8aaee3ad803\r\n",
      "Deleted: sha256:64b02a6bc4126363600cf64fdc6fcf581a1b46953b38c8108a4339371a91691d\r\n",
      "Deleted: sha256:4781826ad67550e19062d2c348e6e9d987ba98ab2a303c3a4f3ccefad4b3d316\r\n",
      "Deleted: sha256:07ee6cbcecfa49fb52dee1e376a0cf6ef1dff1bd62d68215b095ac7ef836e1fe\r\n",
      "Deleted: sha256:ab679b6d32b6d88586cd3abd1a2093ec14a541188014de3a3043cab974928a85\r\n",
      "Deleted: sha256:1f4d4c56e388dc8bfa72f01933faeb5987c0566f1b07747fa02122a9da119bc2\r\n",
      "Deleted: sha256:e12f7768926e50b217004fbb34109f23cb7ae794cf3295985fc2382e4421c0a7\r\n"
     ]
    }
   ],
   "source": [
    "!docker rmi img-ubuntu-sshd "
   ]
  },
  {
   "cell_type": "code",
   "execution_count": 36,
   "metadata": {},
   "outputs": [
    {
     "name": "stdout",
     "output_type": "stream",
     "text": [
      "Deleted Images:\r\n",
      "untagged: img-ubnt-sshd:latest\r\n",
      "untagged: img-ubuntu-sshd:latest\r\n",
      "deleted: sha256:b2ed71c5962e047e014a3c7fbe3b4438fda2b2b00c9fb0e05ccf92abde2636e8\r\n",
      "deleted: sha256:c69c986782313d0bbbf314948ab2ad739d67943016e297eac750dca081811a6e\r\n",
      "deleted: sha256:b8d79e5aea6d9ff3588b41a6595012463b35e7d8073c6f5d57029cb7f3c034d7\r\n",
      "deleted: sha256:048534dfdc3f8ba5e45ac2a5546300a4603d7dd21a4a4d98f886fe40dfc94c89\r\n",
      "deleted: sha256:a1efb26f56ad5ab5a60225cc6804b24254804c78b868b65fb163ce0ea947d137\r\n",
      "deleted: sha256:2f0ca8f3e7600b5a23ac217019ae21eb0a9e62cb6cde412400b48b3dfc688ea7\r\n",
      "deleted: sha256:dee5725ff26d8f0434267067f7ee13832490e6fd8c3a53b8262720ff5b9a92f4\r\n",
      "deleted: sha256:5079295f9f125497bf205a18094711ea18caccf53b81714db1d7e22d3dabcdfb\r\n",
      "deleted: sha256:6ba6afa4f92efbfc98396eaf9fbfee462412dfae85afe5d0292d607dcbe85005\r\n",
      "deleted: sha256:f9de9f4c37b58c12b5cf1130f334eac5e8effa4c1e1522d3164f296877e9c19f\r\n",
      "deleted: sha256:266154673edefd52f67fffa62b95a9308ce78f0f0ccf9d1bcd87d7d70089d309\r\n",
      "deleted: sha256:b4bfb3d200184e4bbd708c51f25b63ce0c97bb24c2d3b61a7096b1b87baa3bb1\r\n",
      "deleted: sha256:1361a9573b1b3eb9ab76eb7dd6b4a6d2ccb810cd70c183c6c54ea8e3925948fc\r\n",
      "deleted: sha256:b1cd4579213a6e9f26d6486af0f451f06d42e9a0d956a9b1de406b73913eb28f\r\n",
      "deleted: sha256:d5f162ef9eb02d264f698965d26002518779b7d3442a30b129a4bbd1c4529b47\r\n",
      "untagged: ubuntu:16.04\r\n",
      "untagged: ubuntu@sha256:9ee3b83bcaa383e5e3b657f042f4034c92cdd50c03f73166c145c9ceaea9ba7c\r\n",
      "untagged: img-ubuntu-python:latest\r\n",
      "deleted: sha256:c03900fbba201885642e7b2bd7dc57f2c14a3515517f93cf943264dc33f85f0e\r\n",
      "deleted: sha256:204c5ca70b249cb81d19323b0e97771f816525143dc1b0b7e8fa35981e8e410e\r\n",
      "deleted: sha256:c9d990395902a9e219684af847a63d793ccf72cf2aadeece1b576566c5662400\r\n",
      "deleted: sha256:675880accb90897aec8fff98df1e3bb3b278bbe186120fa258cc48992bec217a\r\n",
      "deleted: sha256:0cf6486652a8bdb930a6f03e4c0a07cc1965374b70a0db54a3f1f8e40c3355ab\r\n",
      "deleted: sha256:bc0aa35c578d07f133f6e63d302f187c97a877eb3e51fc1de2f33cc5e24a7c7c\r\n",
      "deleted: sha256:44de8286205bd1bbd03542ed198614162f155cbb6738617411a8d2572559853b\r\n",
      "deleted: sha256:fccbfa2912f0cd6b9d13f91f288f112a2b825f3f758a4443aacb45bfc108cc74\r\n",
      "untagged: bash:latest\r\n",
      "untagged: bash@sha256:717f5f1e5f15624166a6abaa8f5c99a5f812c379f3a5f1a31db1dd7206ef9107\r\n",
      "deleted: sha256:59507b30b48ad1faa1fa804b635b1fe0d17c60315722d622d1ed89ca1481192b\r\n",
      "deleted: sha256:736f9c998cf24168c176a2fec23b9811a474d2ee2e2b7517c129a336b2b5cc46\r\n",
      "deleted: sha256:af6ca47e44ed1a67982e143737cddcd75bb6823f51c46aff691aa59812a87ad7\r\n",
      "deleted: sha256:9dfa40a0da3b1a8a7c34abc596d81ede2dba4ecd5c0a7211086d6685da1ce6ef\r\n",
      "untagged: hello-world:latest\r\n",
      "untagged: hello-world@sha256:f5233545e43561214ca4891fd1157e1c3c563316ed8e237750d59bde73361e77\r\n",
      "deleted: sha256:e38bc07ac18ee64e6d59cf2eafcdddf9cec2364dfe129fe0af75f1b0194e0c96\r\n",
      "deleted: sha256:2b8cbd0846c5aeaa7265323e7cf085779eaf244ccbdd982c4931aef9be0d2faf\r\n",
      "\r\n",
      "Total reclaimed space: 297.5MB\r\n"
     ]
    }
   ],
   "source": [
    "!docker image prune --all -f"
   ]
  },
  {
   "cell_type": "code",
   "execution_count": 39,
   "metadata": {},
   "outputs": [
    {
     "name": "stdout",
     "output_type": "stream",
     "text": [
      "REPOSITORY          TAG                 IMAGE ID            CREATED             SIZE\r\n"
     ]
    }
   ],
   "source": [
    "!docker image ls"
   ]
  },
  {
   "cell_type": "markdown",
   "metadata": {},
   "source": [
    "### PS"
   ]
  },
  {
   "cell_type": "code",
   "execution_count": 59,
   "metadata": {},
   "outputs": [
    {
     "name": "stdout",
     "output_type": "stream",
     "text": [
      "Sending build context to Docker daemon   2.56kB\n",
      "Step 1/10 : FROM ubuntu:16.04\n",
      " ---> c9d990395902\n",
      "Step 2/10 : RUN apt-get update && apt-get install -y openssh-server iproute2\n",
      " ---> Running in 1b543f2f2a28\n",
      "Get:1 http://archive.ubuntu.com/ubuntu xenial InRelease [247 kB]\n",
      "Get:2 http://security.ubuntu.com/ubuntu xenial-security InRelease [102 kB]\n",
      "Get:3 http://archive.ubuntu.com/ubuntu xenial-updates InRelease [102 kB]\n",
      "Get:4 http://archive.ubuntu.com/ubuntu xenial-backports InRelease [102 kB]\n",
      "Get:5 http://archive.ubuntu.com/ubuntu xenial/universe Sources [9802 kB]\n",
      "Get:6 http://security.ubuntu.com/ubuntu xenial-security/universe Sources [78.5 kB]\n",
      "Get:7 http://security.ubuntu.com/ubuntu xenial-security/main amd64 Packages [602 kB]\n",
      "Get:8 http://security.ubuntu.com/ubuntu xenial-security/restricted amd64 Packages [12.7 kB]\n",
      "Get:9 http://security.ubuntu.com/ubuntu xenial-security/universe amd64 Packages [431 kB]\n",
      "Get:10 http://security.ubuntu.com/ubuntu xenial-security/multiverse amd64 Packages [3489 B]\n",
      "Get:11 http://archive.ubuntu.com/ubuntu xenial/main amd64 Packages [1558 kB]\n",
      "Get:12 http://archive.ubuntu.com/ubuntu xenial/restricted amd64 Packages [14.1 kB]\n",
      "Get:13 http://archive.ubuntu.com/ubuntu xenial/universe amd64 Packages [9827 kB]\n",
      "Get:14 http://archive.ubuntu.com/ubuntu xenial/multiverse amd64 Packages [176 kB]\n",
      "Get:15 http://archive.ubuntu.com/ubuntu xenial-updates/universe Sources [252 kB]\n",
      "Get:16 http://archive.ubuntu.com/ubuntu xenial-updates/main amd64 Packages [975 kB]\n",
      "Get:17 http://archive.ubuntu.com/ubuntu xenial-updates/restricted amd64 Packages [13.1 kB]\n",
      "Get:18 http://archive.ubuntu.com/ubuntu xenial-updates/universe amd64 Packages [799 kB]\n",
      "Get:19 http://archive.ubuntu.com/ubuntu xenial-updates/multiverse amd64 Packages [18.5 kB]\n",
      "Get:20 http://archive.ubuntu.com/ubuntu xenial-backports/main amd64 Packages [5153 B]\n",
      "Get:21 http://archive.ubuntu.com/ubuntu xenial-backports/universe amd64 Packages [7734 B]\n",
      "Fetched 25.1 MB in 42s (595 kB/s)\n",
      "Reading package lists...\n",
      "Reading package lists...\n",
      "Building dependency tree...\n",
      "Reading state information...\n",
      "The following additional packages will be installed:\n",
      "  ca-certificates dh-python file krb5-locales libatm1 libbsd0 libedit2\n",
      "  libexpat1 libgssapi-krb5-2 libidn11 libk5crypto3 libkeyutils1 libkrb5-3\n",
      "  libkrb5support0 libmagic1 libmnl0 libmpdec2 libpython3-stdlib\n",
      "  libpython3.5-minimal libpython3.5-stdlib libsqlite3-0 libssl1.0.0 libwrap0\n",
      "  libx11-6 libx11-data libxau6 libxcb1 libxdmcp6 libxext6 libxmuu1\n",
      "  libxtables11 mime-support ncurses-term openssh-client openssh-sftp-server\n",
      "  openssl python3 python3-chardet python3-minimal python3-pkg-resources\n",
      "  python3-requests python3-six python3-urllib3 python3.5 python3.5-minimal\n",
      "  ssh-import-id tcpd wget xauth\n",
      "Suggested packages:\n",
      "  libdpkg-perl iproute2-doc krb5-doc krb5-user ssh-askpass libpam-ssh keychain\n",
      "  monkeysphere rssh molly-guard ufw python3-doc python3-tk python3-venv\n",
      "  python3-setuptools python3-ndg-httpsclient python3-openssl python3-pyasn1\n",
      "  python3.5-venv python3.5-doc binutils binfmt-support\n",
      "The following NEW packages will be installed:\n",
      "  ca-certificates dh-python file iproute2 krb5-locales libatm1 libbsd0\n",
      "  libedit2 libexpat1 libgssapi-krb5-2 libidn11 libk5crypto3 libkeyutils1\n",
      "  libkrb5-3 libkrb5support0 libmagic1 libmnl0 libmpdec2 libpython3-stdlib\n",
      "  libpython3.5-minimal libpython3.5-stdlib libsqlite3-0 libssl1.0.0 libwrap0\n",
      "  libx11-6 libx11-data libxau6 libxcb1 libxdmcp6 libxext6 libxmuu1\n",
      "  libxtables11 mime-support ncurses-term openssh-client openssh-server\n",
      "  openssh-sftp-server openssl python3 python3-chardet python3-minimal\n",
      "  python3-pkg-resources python3-requests python3-six python3-urllib3 python3.5\n",
      "  python3.5-minimal ssh-import-id tcpd wget xauth\n",
      "0 upgraded, 51 newly installed, 0 to remove and 0 not upgraded.\n",
      "Need to get 11.1 MB of archives.\n",
      "After this operation, 56.9 MB of additional disk space will be used.\n",
      "Get:1 http://archive.ubuntu.com/ubuntu xenial/main amd64 libatm1 amd64 1:2.5.1-1.5 [24.2 kB]\n",
      "Get:2 http://archive.ubuntu.com/ubuntu xenial/main amd64 libmnl0 amd64 1.0.3-5 [12.0 kB]\n",
      "Get:3 http://archive.ubuntu.com/ubuntu xenial-updates/main amd64 libssl1.0.0 amd64 1.0.2g-1ubuntu4.11 [1082 kB]\n",
      "Get:4 http://archive.ubuntu.com/ubuntu xenial-updates/main amd64 libpython3.5-minimal amd64 3.5.2-2ubuntu0~16.04.4 [523 kB]\n",
      "Get:5 http://archive.ubuntu.com/ubuntu xenial-updates/main amd64 libexpat1 amd64 2.1.0-7ubuntu0.16.04.3 [71.2 kB]\n",
      "Get:6 http://archive.ubuntu.com/ubuntu xenial-updates/main amd64 python3.5-minimal amd64 3.5.2-2ubuntu0~16.04.4 [1597 kB]\n",
      "Get:7 http://archive.ubuntu.com/ubuntu xenial/main amd64 python3-minimal amd64 3.5.1-3 [23.3 kB]\n",
      "Get:8 http://archive.ubuntu.com/ubuntu xenial/main amd64 mime-support all 3.59ubuntu1 [31.0 kB]\n",
      "Get:9 http://archive.ubuntu.com/ubuntu xenial/main amd64 libmpdec2 amd64 2.4.2-1 [82.6 kB]\n",
      "Get:10 http://archive.ubuntu.com/ubuntu xenial/main amd64 libsqlite3-0 amd64 3.11.0-1ubuntu1 [396 kB]\n",
      "Get:11 http://archive.ubuntu.com/ubuntu xenial-updates/main amd64 libpython3.5-stdlib amd64 3.5.2-2ubuntu0~16.04.4 [2132 kB]\n",
      "Get:12 http://archive.ubuntu.com/ubuntu xenial-updates/main amd64 python3.5 amd64 3.5.2-2ubuntu0~16.04.4 [165 kB]\n",
      "Get:13 http://archive.ubuntu.com/ubuntu xenial/main amd64 libpython3-stdlib amd64 3.5.1-3 [6818 B]\n",
      "Get:14 http://archive.ubuntu.com/ubuntu xenial-updates/main amd64 dh-python all 2.20151103ubuntu1.1 [74.1 kB]\n",
      "Get:15 http://archive.ubuntu.com/ubuntu xenial/main amd64 python3 amd64 3.5.1-3 [8710 B]\n",
      "Get:16 http://archive.ubuntu.com/ubuntu xenial/main amd64 libxau6 amd64 1:1.0.8-1 [8376 B]\n",
      "Get:17 http://archive.ubuntu.com/ubuntu xenial/main amd64 libxdmcp6 amd64 1:1.1.2-1.1 [11.0 kB]\n",
      "Get:18 http://archive.ubuntu.com/ubuntu xenial/main amd64 libxcb1 amd64 1.11.1-1ubuntu1 [40.0 kB]\n",
      "Get:19 http://archive.ubuntu.com/ubuntu xenial/main amd64 libx11-data all 2:1.6.3-1ubuntu2 [113 kB]\n",
      "Get:20 http://archive.ubuntu.com/ubuntu xenial/main amd64 libx11-6 amd64 2:1.6.3-1ubuntu2 [571 kB]\n",
      "Get:21 http://archive.ubuntu.com/ubuntu xenial/main amd64 libxext6 amd64 2:1.3.3-1 [29.4 kB]\n",
      "Get:22 http://archive.ubuntu.com/ubuntu xenial/main amd64 libwrap0 amd64 7.6.q-25 [46.2 kB]\n",
      "Get:23 http://archive.ubuntu.com/ubuntu xenial/main amd64 libmagic1 amd64 1:5.25-2ubuntu1 [216 kB]\n",
      "Get:24 http://archive.ubuntu.com/ubuntu xenial/main amd64 file amd64 1:5.25-2ubuntu1 [21.2 kB]\n",
      "Get:25 http://archive.ubuntu.com/ubuntu xenial-updates/main amd64 iproute2 amd64 4.3.0-1ubuntu3.16.04.3 [522 kB]\n",
      "Get:26 http://archive.ubuntu.com/ubuntu xenial/main amd64 libbsd0 amd64 0.8.2-1 [41.7 kB]\n",
      "Get:27 http://archive.ubuntu.com/ubuntu xenial-updates/main amd64 libidn11 amd64 1.32-3ubuntu1.2 [46.5 kB]\n",
      "Get:28 http://archive.ubuntu.com/ubuntu xenial/main amd64 libxtables11 amd64 1.6.0-2ubuntu3 [27.2 kB]\n",
      "Get:29 http://archive.ubuntu.com/ubuntu xenial-updates/main amd64 openssl amd64 1.0.2g-1ubuntu4.11 [492 kB]\n",
      "Get:30 http://archive.ubuntu.com/ubuntu xenial-updates/main amd64 ca-certificates all 20170717~16.04.1 [168 kB]\n",
      "Get:31 http://archive.ubuntu.com/ubuntu xenial-updates/main amd64 krb5-locales all 1.13.2+dfsg-5ubuntu2 [13.2 kB]\n",
      "Get:32 http://archive.ubuntu.com/ubuntu xenial/main amd64 libedit2 amd64 3.1-20150325-1ubuntu2 [76.5 kB]\n",
      "Get:33 http://archive.ubuntu.com/ubuntu xenial-updates/main amd64 libkrb5support0 amd64 1.13.2+dfsg-5ubuntu2 [30.8 kB]\n",
      "Get:34 http://archive.ubuntu.com/ubuntu xenial-updates/main amd64 libk5crypto3 amd64 1.13.2+dfsg-5ubuntu2 [81.2 kB]\n",
      "Get:35 http://archive.ubuntu.com/ubuntu xenial/main amd64 libkeyutils1 amd64 1.5.9-8ubuntu1 [9904 B]\n",
      "Get:36 http://archive.ubuntu.com/ubuntu xenial-updates/main amd64 libkrb5-3 amd64 1.13.2+dfsg-5ubuntu2 [273 kB]\n",
      "Get:37 http://archive.ubuntu.com/ubuntu xenial-updates/main amd64 libgssapi-krb5-2 amd64 1.13.2+dfsg-5ubuntu2 [120 kB]\n",
      "Get:38 http://archive.ubuntu.com/ubuntu xenial/main amd64 libxmuu1 amd64 2:1.1.2-2 [9674 B]\n",
      "Get:39 http://archive.ubuntu.com/ubuntu xenial-updates/main amd64 openssh-client amd64 1:7.2p2-4ubuntu2.4 [589 kB]\n",
      "Get:40 http://archive.ubuntu.com/ubuntu xenial-updates/main amd64 wget amd64 1.17.1-1ubuntu1.3 [299 kB]\n",
      "Get:41 http://archive.ubuntu.com/ubuntu xenial/main amd64 xauth amd64 1:1.0.9-1ubuntu2 [22.7 kB]\n",
      "Get:42 http://archive.ubuntu.com/ubuntu xenial/main amd64 ncurses-term all 6.0+20160213-1ubuntu1 [249 kB]\n"
     ]
    },
    {
     "name": "stdout",
     "output_type": "stream",
     "text": [
      "Get:43 http://archive.ubuntu.com/ubuntu xenial-updates/main amd64 openssh-sftp-server amd64 1:7.2p2-4ubuntu2.4 [38.7 kB]\n",
      "Get:44 http://archive.ubuntu.com/ubuntu xenial-updates/main amd64 openssh-server amd64 1:7.2p2-4ubuntu2.4 [335 kB]\n",
      "Get:45 http://archive.ubuntu.com/ubuntu xenial/main amd64 python3-pkg-resources all 20.7.0-1 [79.0 kB]\n",
      "Get:46 http://archive.ubuntu.com/ubuntu xenial/main amd64 python3-chardet all 2.3.0-2 [96.2 kB]\n",
      "Get:47 http://archive.ubuntu.com/ubuntu xenial/main amd64 python3-six all 1.10.0-3 [11.0 kB]\n",
      "Get:48 http://archive.ubuntu.com/ubuntu xenial-updates/main amd64 python3-urllib3 all 1.13.1-2ubuntu0.16.04.1 [57.3 kB]\n",
      "Get:49 http://archive.ubuntu.com/ubuntu xenial/main amd64 python3-requests all 2.9.1-3 [55.4 kB]\n",
      "Get:50 http://archive.ubuntu.com/ubuntu xenial/main amd64 tcpd amd64 7.6.q-25 [23.0 kB]\n",
      "Get:51 http://archive.ubuntu.com/ubuntu xenial/main amd64 ssh-import-id all 5.5-0ubuntu1 [10.2 kB]\n",
      "\u001b[91mdebconf: delaying package configuration, since apt-utils is not installed\n",
      "\u001b[0mFetched 11.1 MB in 18s (604 kB/s)\n",
      "Selecting previously unselected package libatm1:amd64.\n",
      "(Reading database ... 4768 files and directories currently installed.)\n",
      "Preparing to unpack .../libatm1_1%3a2.5.1-1.5_amd64.deb ...\n",
      "Unpacking libatm1:amd64 (1:2.5.1-1.5) ...\n",
      "Selecting previously unselected package libmnl0:amd64.\n",
      "Preparing to unpack .../libmnl0_1.0.3-5_amd64.deb ...\n",
      "Unpacking libmnl0:amd64 (1.0.3-5) ...\n",
      "Selecting previously unselected package libssl1.0.0:amd64.\n",
      "Preparing to unpack .../libssl1.0.0_1.0.2g-1ubuntu4.11_amd64.deb ...\n",
      "Unpacking libssl1.0.0:amd64 (1.0.2g-1ubuntu4.11) ...\n",
      "Selecting previously unselected package libpython3.5-minimal:amd64.\n",
      "Preparing to unpack .../libpython3.5-minimal_3.5.2-2ubuntu0~16.04.4_amd64.deb ...\n",
      "Unpacking libpython3.5-minimal:amd64 (3.5.2-2ubuntu0~16.04.4) ...\n",
      "Selecting previously unselected package libexpat1:amd64.\n",
      "Preparing to unpack .../libexpat1_2.1.0-7ubuntu0.16.04.3_amd64.deb ...\n",
      "Unpacking libexpat1:amd64 (2.1.0-7ubuntu0.16.04.3) ...\n",
      "Selecting previously unselected package python3.5-minimal.\n",
      "Preparing to unpack .../python3.5-minimal_3.5.2-2ubuntu0~16.04.4_amd64.deb ...\n",
      "Unpacking python3.5-minimal (3.5.2-2ubuntu0~16.04.4) ...\n",
      "Selecting previously unselected package python3-minimal.\n",
      "Preparing to unpack .../python3-minimal_3.5.1-3_amd64.deb ...\n",
      "Unpacking python3-minimal (3.5.1-3) ...\n",
      "Selecting previously unselected package mime-support.\n",
      "Preparing to unpack .../mime-support_3.59ubuntu1_all.deb ...\n",
      "Unpacking mime-support (3.59ubuntu1) ...\n",
      "Selecting previously unselected package libmpdec2:amd64.\n",
      "Preparing to unpack .../libmpdec2_2.4.2-1_amd64.deb ...\n",
      "Unpacking libmpdec2:amd64 (2.4.2-1) ...\n",
      "Selecting previously unselected package libsqlite3-0:amd64.\n",
      "Preparing to unpack .../libsqlite3-0_3.11.0-1ubuntu1_amd64.deb ...\n",
      "Unpacking libsqlite3-0:amd64 (3.11.0-1ubuntu1) ...\n",
      "Selecting previously unselected package libpython3.5-stdlib:amd64.\n",
      "Preparing to unpack .../libpython3.5-stdlib_3.5.2-2ubuntu0~16.04.4_amd64.deb ...\n",
      "Unpacking libpython3.5-stdlib:amd64 (3.5.2-2ubuntu0~16.04.4) ...\n",
      "Selecting previously unselected package python3.5.\n",
      "Preparing to unpack .../python3.5_3.5.2-2ubuntu0~16.04.4_amd64.deb ...\n",
      "Unpacking python3.5 (3.5.2-2ubuntu0~16.04.4) ...\n",
      "Selecting previously unselected package libpython3-stdlib:amd64.\n",
      "Preparing to unpack .../libpython3-stdlib_3.5.1-3_amd64.deb ...\n",
      "Unpacking libpython3-stdlib:amd64 (3.5.1-3) ...\n",
      "Selecting previously unselected package dh-python.\n",
      "Preparing to unpack .../dh-python_2.20151103ubuntu1.1_all.deb ...\n",
      "Unpacking dh-python (2.20151103ubuntu1.1) ...\n",
      "Processing triggers for libc-bin (2.23-0ubuntu10) ...\n",
      "Setting up libssl1.0.0:amd64 (1.0.2g-1ubuntu4.11) ...\n",
      "debconf: unable to initialize frontend: Dialog\n",
      "debconf: (TERM is not set, so the dialog frontend is not usable.)\n",
      "debconf: falling back to frontend: Readline\n",
      "debconf: unable to initialize frontend: Readline\n",
      "debconf: (Can't locate Term/ReadLine.pm in @INC (you may need to install the Term::ReadLine module) (@INC contains: /etc/perl /usr/local/lib/x86_64-linux-gnu/perl/5.22.1 /usr/local/share/perl/5.22.1 /usr/lib/x86_64-linux-gnu/perl5/5.22 /usr/share/perl5 /usr/lib/x86_64-linux-gnu/perl/5.22 /usr/share/perl/5.22 /usr/local/lib/site_perl /usr/lib/x86_64-linux-gnu/perl-base .) at /usr/share/perl5/Debconf/FrontEnd/Readline.pm line 7.)\n",
      "debconf: falling back to frontend: Teletype\n",
      "Setting up libpython3.5-minimal:amd64 (3.5.2-2ubuntu0~16.04.4) ...\n",
      "Setting up libexpat1:amd64 (2.1.0-7ubuntu0.16.04.3) ...\n",
      "Setting up python3.5-minimal (3.5.2-2ubuntu0~16.04.4) ...\n",
      "Setting up python3-minimal (3.5.1-3) ...\n",
      "Processing triggers for libc-bin (2.23-0ubuntu10) ...\n",
      "Selecting previously unselected package python3.\n",
      "(Reading database ... 5754 files and directories currently installed.)\n",
      "Preparing to unpack .../python3_3.5.1-3_amd64.deb ...\n",
      "Unpacking python3 (3.5.1-3) ...\n",
      "Selecting previously unselected package libxau6:amd64.\n",
      "Preparing to unpack .../libxau6_1%3a1.0.8-1_amd64.deb ...\n",
      "Unpacking libxau6:amd64 (1:1.0.8-1) ...\n",
      "Selecting previously unselected package libxdmcp6:amd64.\n",
      "Preparing to unpack .../libxdmcp6_1%3a1.1.2-1.1_amd64.deb ...\n",
      "Unpacking libxdmcp6:amd64 (1:1.1.2-1.1) ...\n",
      "Selecting previously unselected package libxcb1:amd64.\n",
      "Preparing to unpack .../libxcb1_1.11.1-1ubuntu1_amd64.deb ...\n",
      "Unpacking libxcb1:amd64 (1.11.1-1ubuntu1) ...\n",
      "Selecting previously unselected package libx11-data.\n",
      "Preparing to unpack .../libx11-data_2%3a1.6.3-1ubuntu2_all.deb ...\n",
      "Unpacking libx11-data (2:1.6.3-1ubuntu2) ...\n",
      "Selecting previously unselected package libx11-6:amd64.\n",
      "Preparing to unpack .../libx11-6_2%3a1.6.3-1ubuntu2_amd64.deb ...\n",
      "Unpacking libx11-6:amd64 (2:1.6.3-1ubuntu2) ...\n",
      "Selecting previously unselected package libxext6:amd64.\n",
      "Preparing to unpack .../libxext6_2%3a1.3.3-1_amd64.deb ...\n",
      "Unpacking libxext6:amd64 (2:1.3.3-1) ...\n",
      "Selecting previously unselected package libwrap0:amd64.\n",
      "Preparing to unpack .../libwrap0_7.6.q-25_amd64.deb ...\n",
      "Unpacking libwrap0:amd64 (7.6.q-25) ...\n",
      "Selecting previously unselected package libmagic1:amd64.\n",
      "Preparing to unpack .../libmagic1_1%3a5.25-2ubuntu1_amd64.deb ...\n",
      "Unpacking libmagic1:amd64 (1:5.25-2ubuntu1) ...\n",
      "Selecting previously unselected package file.\n",
      "Preparing to unpack .../file_1%3a5.25-2ubuntu1_amd64.deb ...\n",
      "Unpacking file (1:5.25-2ubuntu1) ...\n",
      "Selecting previously unselected package iproute2.\n",
      "Preparing to unpack .../iproute2_4.3.0-1ubuntu3.16.04.3_amd64.deb ...\n",
      "Unpacking iproute2 (4.3.0-1ubuntu3.16.04.3) ...\n",
      "Selecting previously unselected package libbsd0:amd64.\n",
      "Preparing to unpack .../libbsd0_0.8.2-1_amd64.deb ...\n",
      "Unpacking libbsd0:amd64 (0.8.2-1) ...\n",
      "Selecting previously unselected package libidn11:amd64.\n",
      "Preparing to unpack .../libidn11_1.32-3ubuntu1.2_amd64.deb ...\n",
      "Unpacking libidn11:amd64 (1.32-3ubuntu1.2) ...\n",
      "Selecting previously unselected package libxtables11:amd64.\n",
      "Preparing to unpack .../libxtables11_1.6.0-2ubuntu3_amd64.deb ...\n",
      "Unpacking libxtables11:amd64 (1.6.0-2ubuntu3) ...\n",
      "Selecting previously unselected package openssl.\n",
      "Preparing to unpack .../openssl_1.0.2g-1ubuntu4.11_amd64.deb ...\n",
      "Unpacking openssl (1.0.2g-1ubuntu4.11) ...\n",
      "Selecting previously unselected package ca-certificates.\n",
      "Preparing to unpack .../ca-certificates_20170717~16.04.1_all.deb ...\n",
      "Unpacking ca-certificates (20170717~16.04.1) ...\n",
      "Selecting previously unselected package krb5-locales.\n",
      "Preparing to unpack .../krb5-locales_1.13.2+dfsg-5ubuntu2_all.deb ...\n",
      "Unpacking krb5-locales (1.13.2+dfsg-5ubuntu2) ...\n",
      "Selecting previously unselected package libedit2:amd64.\n",
      "Preparing to unpack .../libedit2_3.1-20150325-1ubuntu2_amd64.deb ...\n",
      "Unpacking libedit2:amd64 (3.1-20150325-1ubuntu2) ...\n",
      "Selecting previously unselected package libkrb5support0:amd64.\n",
      "Preparing to unpack .../libkrb5support0_1.13.2+dfsg-5ubuntu2_amd64.deb ...\n",
      "Unpacking libkrb5support0:amd64 (1.13.2+dfsg-5ubuntu2) ...\n",
      "Selecting previously unselected package libk5crypto3:amd64.\n",
      "Preparing to unpack .../libk5crypto3_1.13.2+dfsg-5ubuntu2_amd64.deb ...\n",
      "Unpacking libk5crypto3:amd64 (1.13.2+dfsg-5ubuntu2) ...\n",
      "Selecting previously unselected package libkeyutils1:amd64.\n",
      "Preparing to unpack .../libkeyutils1_1.5.9-8ubuntu1_amd64.deb ...\n",
      "Unpacking libkeyutils1:amd64 (1.5.9-8ubuntu1) ...\n",
      "Selecting previously unselected package libkrb5-3:amd64.\n"
     ]
    },
    {
     "name": "stdout",
     "output_type": "stream",
     "text": [
      "Preparing to unpack .../libkrb5-3_1.13.2+dfsg-5ubuntu2_amd64.deb ...\n",
      "Unpacking libkrb5-3:amd64 (1.13.2+dfsg-5ubuntu2) ...\n",
      "Selecting previously unselected package libgssapi-krb5-2:amd64.\n",
      "Preparing to unpack .../libgssapi-krb5-2_1.13.2+dfsg-5ubuntu2_amd64.deb ...\n",
      "Unpacking libgssapi-krb5-2:amd64 (1.13.2+dfsg-5ubuntu2) ...\n",
      "Selecting previously unselected package libxmuu1:amd64.\n",
      "Preparing to unpack .../libxmuu1_2%3a1.1.2-2_amd64.deb ...\n",
      "Unpacking libxmuu1:amd64 (2:1.1.2-2) ...\n",
      "Selecting previously unselected package openssh-client.\n",
      "Preparing to unpack .../openssh-client_1%3a7.2p2-4ubuntu2.4_amd64.deb ...\n",
      "Unpacking openssh-client (1:7.2p2-4ubuntu2.4) ...\n",
      "Selecting previously unselected package wget.\n",
      "Preparing to unpack .../wget_1.17.1-1ubuntu1.3_amd64.deb ...\n",
      "Unpacking wget (1.17.1-1ubuntu1.3) ...\n",
      "Selecting previously unselected package xauth.\n",
      "Preparing to unpack .../xauth_1%3a1.0.9-1ubuntu2_amd64.deb ...\n",
      "Unpacking xauth (1:1.0.9-1ubuntu2) ...\n",
      "Selecting previously unselected package ncurses-term.\n",
      "Preparing to unpack .../ncurses-term_6.0+20160213-1ubuntu1_all.deb ...\n",
      "Unpacking ncurses-term (6.0+20160213-1ubuntu1) ...\n",
      "Selecting previously unselected package openssh-sftp-server.\n",
      "Preparing to unpack .../openssh-sftp-server_1%3a7.2p2-4ubuntu2.4_amd64.deb ...\n",
      "Unpacking openssh-sftp-server (1:7.2p2-4ubuntu2.4) ...\n",
      "Selecting previously unselected package openssh-server.\n",
      "Preparing to unpack .../openssh-server_1%3a7.2p2-4ubuntu2.4_amd64.deb ...\n",
      "Unpacking openssh-server (1:7.2p2-4ubuntu2.4) ...\n",
      "Selecting previously unselected package python3-pkg-resources.\n",
      "Preparing to unpack .../python3-pkg-resources_20.7.0-1_all.deb ...\n",
      "Unpacking python3-pkg-resources (20.7.0-1) ...\n",
      "Selecting previously unselected package python3-chardet.\n",
      "Preparing to unpack .../python3-chardet_2.3.0-2_all.deb ...\n",
      "Unpacking python3-chardet (2.3.0-2) ...\n",
      "Selecting previously unselected package python3-six.\n",
      "Preparing to unpack .../python3-six_1.10.0-3_all.deb ...\n",
      "Unpacking python3-six (1.10.0-3) ...\n",
      "Selecting previously unselected package python3-urllib3.\n",
      "Preparing to unpack .../python3-urllib3_1.13.1-2ubuntu0.16.04.1_all.deb ...\n",
      "Unpacking python3-urllib3 (1.13.1-2ubuntu0.16.04.1) ...\n",
      "Selecting previously unselected package python3-requests.\n",
      "Preparing to unpack .../python3-requests_2.9.1-3_all.deb ...\n",
      "Unpacking python3-requests (2.9.1-3) ...\n",
      "Selecting previously unselected package tcpd.\n",
      "Preparing to unpack .../tcpd_7.6.q-25_amd64.deb ...\n",
      "Unpacking tcpd (7.6.q-25) ...\n",
      "Selecting previously unselected package ssh-import-id.\n",
      "Preparing to unpack .../ssh-import-id_5.5-0ubuntu1_all.deb ...\n",
      "Unpacking ssh-import-id (5.5-0ubuntu1) ...\n",
      "Processing triggers for libc-bin (2.23-0ubuntu10) ...\n",
      "Processing triggers for systemd (229-4ubuntu21.2) ...\n",
      "Setting up libatm1:amd64 (1:2.5.1-1.5) ...\n",
      "Setting up libmnl0:amd64 (1.0.3-5) ...\n",
      "Setting up mime-support (3.59ubuntu1) ...\n",
      "Setting up libmpdec2:amd64 (2.4.2-1) ...\n",
      "Setting up libsqlite3-0:amd64 (3.11.0-1ubuntu1) ...\n",
      "Setting up libpython3.5-stdlib:amd64 (3.5.2-2ubuntu0~16.04.4) ...\n",
      "Setting up python3.5 (3.5.2-2ubuntu0~16.04.4) ...\n",
      "Setting up libpython3-stdlib:amd64 (3.5.1-3) ...\n",
      "Setting up libxau6:amd64 (1:1.0.8-1) ...\n",
      "Setting up libxdmcp6:amd64 (1:1.1.2-1.1) ...\n",
      "Setting up libxcb1:amd64 (1.11.1-1ubuntu1) ...\n",
      "Setting up libx11-data (2:1.6.3-1ubuntu2) ...\n",
      "Setting up libx11-6:amd64 (2:1.6.3-1ubuntu2) ...\n",
      "Setting up libxext6:amd64 (2:1.3.3-1) ...\n",
      "Setting up libwrap0:amd64 (7.6.q-25) ...\n",
      "Setting up libmagic1:amd64 (1:5.25-2ubuntu1) ...\n",
      "Setting up file (1:5.25-2ubuntu1) ...\n",
      "Setting up iproute2 (4.3.0-1ubuntu3.16.04.3) ...\n",
      "Setting up libbsd0:amd64 (0.8.2-1) ...\n",
      "Setting up libidn11:amd64 (1.32-3ubuntu1.2) ...\n",
      "Setting up libxtables11:amd64 (1.6.0-2ubuntu3) ...\n",
      "Setting up openssl (1.0.2g-1ubuntu4.11) ...\n",
      "Setting up ca-certificates (20170717~16.04.1) ...\n",
      "debconf: unable to initialize frontend: Dialog\n",
      "debconf: (TERM is not set, so the dialog frontend is not usable.)\n",
      "debconf: falling back to frontend: Readline\n",
      "debconf: unable to initialize frontend: Readline\n",
      "debconf: (Can't locate Term/ReadLine.pm in @INC (you may need to install the Term::ReadLine module) (@INC contains: /etc/perl /usr/local/lib/x86_64-linux-gnu/perl/5.22.1 /usr/local/share/perl/5.22.1 /usr/lib/x86_64-linux-gnu/perl5/5.22 /usr/share/perl5 /usr/lib/x86_64-linux-gnu/perl/5.22 /usr/share/perl/5.22 /usr/local/lib/site_perl /usr/lib/x86_64-linux-gnu/perl-base .) at /usr/share/perl5/Debconf/FrontEnd/Readline.pm line 7.)\n",
      "debconf: falling back to frontend: Teletype\n",
      "Setting up krb5-locales (1.13.2+dfsg-5ubuntu2) ...\n",
      "Setting up libedit2:amd64 (3.1-20150325-1ubuntu2) ...\n",
      "Setting up libkrb5support0:amd64 (1.13.2+dfsg-5ubuntu2) ...\n",
      "Setting up libk5crypto3:amd64 (1.13.2+dfsg-5ubuntu2) ...\n",
      "Setting up libkeyutils1:amd64 (1.5.9-8ubuntu1) ...\n",
      "Setting up libkrb5-3:amd64 (1.13.2+dfsg-5ubuntu2) ...\n",
      "Setting up libgssapi-krb5-2:amd64 (1.13.2+dfsg-5ubuntu2) ...\n",
      "Setting up libxmuu1:amd64 (2:1.1.2-2) ...\n",
      "Setting up openssh-client (1:7.2p2-4ubuntu2.4) ...\n",
      "Setting up wget (1.17.1-1ubuntu1.3) ...\n",
      "Setting up xauth (1:1.0.9-1ubuntu2) ...\n",
      "Setting up ncurses-term (6.0+20160213-1ubuntu1) ...\n",
      "Setting up openssh-sftp-server (1:7.2p2-4ubuntu2.4) ...\n",
      "Setting up openssh-server (1:7.2p2-4ubuntu2.4) ...\n",
      "debconf: unable to initialize frontend: Dialog\n",
      "debconf: (TERM is not set, so the dialog frontend is not usable.)\n",
      "debconf: falling back to frontend: Readline\n",
      "debconf: unable to initialize frontend: Readline\n",
      "debconf: (Can't locate Term/ReadLine.pm in @INC (you may need to install the Term::ReadLine module) (@INC contains: /etc/perl /usr/local/lib/x86_64-linux-gnu/perl/5.22.1 /usr/local/share/perl/5.22.1 /usr/lib/x86_64-linux-gnu/perl5/5.22 /usr/share/perl5 /usr/lib/x86_64-linux-gnu/perl/5.22 /usr/share/perl/5.22 /usr/local/lib/site_perl /usr/lib/x86_64-linux-gnu/perl-base .) at /usr/share/perl5/Debconf/FrontEnd/Readline.pm line 7.)\n",
      "debconf: falling back to frontend: Teletype\n",
      "Creating SSH2 RSA key; this may take some time ...\n",
      "2048 SHA256:DZsNAGgKrupDjl1Yz24+dIn/WwifEadJJtKW6+oKeJM root@1b543f2f2a28 (RSA)\n",
      "Creating SSH2 DSA key; this may take some time ...\n",
      "1024 SHA256:u5xqxpbwLJo8PANZq8yewUgZ4qSZ8/9a/3wqxRx94GM root@1b543f2f2a28 (DSA)\n",
      "Creating SSH2 ECDSA key; this may take some time ...\n",
      "256 SHA256:ChvVDoTmt/JLki3ZjDVi6AU+oWla/gk9nt8bB4CFrr8 root@1b543f2f2a28 (ECDSA)\n",
      "Creating SSH2 ED25519 key; this may take some time ...\n",
      "256 SHA256:jcYbilO0YnNzHHFe3429B3ZRpFa7GPzY6fuIp42Z/8M root@1b543f2f2a28 (ED25519)\n",
      "invoke-rc.d: could not determine current runlevel\n",
      "invoke-rc.d: policy-rc.d denied execution of start.\n",
      "Setting up tcpd (7.6.q-25) ...\n",
      "Setting up dh-python (2.20151103ubuntu1.1) ...\n",
      "Setting up python3 (3.5.1-3) ...\n",
      "running python rtupdate hooks for python3.5...\n",
      "running python post-rtupdate hooks for python3.5...\n",
      "Setting up python3-pkg-resources (20.7.0-1) ...\n",
      "Setting up python3-chardet (2.3.0-2) ...\n",
      "Setting up python3-six (1.10.0-3) ...\n",
      "Setting up python3-urllib3 (1.13.1-2ubuntu0.16.04.1) ...\n",
      "Setting up python3-requests (2.9.1-3) ...\n",
      "Setting up ssh-import-id (5.5-0ubuntu1) ...\n",
      "Processing triggers for libc-bin (2.23-0ubuntu10) ...\n",
      "Processing triggers for ca-certificates (20170717~16.04.1) ...\n",
      "Updating certificates in /etc/ssl/certs...\n",
      "148 added, 0 removed; done.\n",
      "Running hooks in /etc/ca-certificates/update.d...\n",
      "done.\n",
      "Processing triggers for systemd (229-4ubuntu21.2) ...\n",
      "Removing intermediate container 1b543f2f2a28\n",
      " ---> 59c253b8bb6d\n",
      "Step 3/10 : RUN mkdir /var/run/sshd\n",
      " ---> Running in 203cba0a46cd\n",
      "Removing intermediate container 203cba0a46cd\n",
      " ---> dd7be124c286\n",
      "Step 4/10 : RUN echo 'root:pwd' | chpasswd\n",
      " ---> Running in 17f46df5847b\n",
      "Removing intermediate container 17f46df5847b\n",
      " ---> 7c57aa1ec906\n",
      "Step 5/10 : RUN sed -i 's/PermitRootLogin prohibit-password/PermitRootLogin yes/' /etc/ssh/sshd_config\n",
      " ---> Running in 4409d37b2dfd\n",
      "Removing intermediate container 4409d37b2dfd\n",
      " ---> c8a2dcaedfbe\n",
      "Step 6/10 : RUN sed 's@session\\s*required\\s*pam_loginuid.so@session optional pam_loginuid.so@g' -i /etc/pam.d/sshd\n",
      " ---> Running in 12edfc284ce7\n",
      "Removing intermediate container 12edfc284ce7\n",
      " ---> e9ded092bfcc\n",
      "Step 7/10 : ENV NOTVISIBLE \"in users profile\"\n",
      " ---> Running in 0fbd2c776ba0\n",
      "Removing intermediate container 0fbd2c776ba0\n",
      " ---> 9fb2b1e3ef35\n",
      "Step 8/10 : RUN echo \"export VISIBLE=now\" >> /etc/profile\n"
     ]
    },
    {
     "name": "stdout",
     "output_type": "stream",
     "text": [
      " ---> Running in 52f6656d3442\n",
      "Removing intermediate container 52f6656d3442\n",
      " ---> dc0b8a6546e0\n",
      "Step 9/10 : EXPOSE 22\n",
      " ---> Running in 16b94e9dbac9\n",
      "Removing intermediate container 16b94e9dbac9\n",
      " ---> fdc0fdd5489b\n",
      "Step 10/10 : CMD [\"/usr/sbin/sshd\", \"-D\"]\n",
      " ---> Running in 0bdc896accb9\n",
      "Removing intermediate container 0bdc896accb9\n",
      " ---> cc447c8aaf70\n",
      "Successfully built cc447c8aaf70\n",
      "Successfully tagged img-ubuntu-sshd:latest\n"
     ]
    }
   ],
   "source": [
    "!cd ./docker/img-ubuntu-sshd/ && docker build . -t img-ubuntu-sshd"
   ]
  },
  {
   "cell_type": "code",
   "execution_count": 60,
   "metadata": {},
   "outputs": [
    {
     "name": "stdout",
     "output_type": "stream",
     "text": [
      "2a9f60befdece80be07e6420a00a9eca7a2d572eba5f565d67b4ea874782118f\r\n"
     ]
    }
   ],
   "source": [
    "!docker run -d -p 22022:22 --name cont-ubuntu-sshd img-ubuntu-sshd "
   ]
  },
  {
   "cell_type": "code",
   "execution_count": null,
   "metadata": {},
   "outputs": [],
   "source": []
  }
 ],
 "metadata": {
  "kernelspec": {
   "display_name": "Python 3",
   "language": "python",
   "name": "python3"
  },
  "language_info": {
   "codemirror_mode": {
    "name": "ipython",
    "version": 3
   },
   "file_extension": ".py",
   "mimetype": "text/x-python",
   "name": "python",
   "nbconvert_exporter": "python",
   "pygments_lexer": "ipython3",
   "version": "3.5.2"
  }
 },
 "nbformat": 4,
 "nbformat_minor": 2
}
